{
 "cells": [
  {
   "cell_type": "code",
   "execution_count": 1,
   "metadata": {},
   "outputs": [],
   "source": [
    "import sys\n",
    "sys.path.append('/source/main')"
   ]
  },
  {
   "cell_type": "code",
   "execution_count": 2,
   "metadata": {},
   "outputs": [],
   "source": [
    "import logging\n",
    "logging.basicConfig(level=logging.INFO)\n",
    "from pathlib import Path\n",
    "\n",
    "import pandas as pd\n",
    "from tqdm import tqdm\n",
    "\n",
    "from data_for_train.shared_pool import PoolDocs\n",
    "from data_download import topic_ids\n",
    "from data_for_train import pool"
   ]
  },
  {
   "cell_type": "code",
   "execution_count": null,
   "metadata": {},
   "outputs": [],
   "source": [
    "preserved_topics = set(topic_ids.test_topics)\n",
    "path = Path('/source/main/data_for_train/output/train/pool/')\n",
    "social_path = path.glob('*.csv')\n",
    "df = pd.DataFrame()\n",
    "for topic_path in social_path:\n",
    "    if topic_path.name.split('.')[0] in preserved_topics:\n",
    "        logging.info('Topic %s is preserved for testing', topic_path.name.split('.')[0])\n",
    "        continue\n",
    "    df_topic = pd.read_csv(topic_path, usecols=['mention', 'mention_type'])\n",
    "    df_topic = df_topic[df_topic['mention_type'] != 3]\n",
    "    df = df.append(df_topic)\n",
    "    logging.info('shape: %s', df.shape[0])\n",
    "    \n",
    "df = df.dropna()\n",
    "df = df.drop_duplicates(subset=['mention'])\n",
    "df = df.sample(2000000)\n",
    "df.to_csv('/source/main/data_for_train/output/train/pool_not_shared.csv', index=None)"
   ]
  },
  {
   "cell_type": "code",
   "execution_count": null,
   "metadata": {},
   "outputs": [],
   "source": [
    "preserved_topics = set(topic_ids.test_topics)\n",
    "path = Path('/source/main/data_for_train/output/train/pool/')\n",
    "social_path = path.glob('*.csv')\n",
    "df = pd.DataFrame()\n",
    "for topic_path in social_path:\n",
    "    if topic_path.name.split('.')[0] in preserved_topics:\n",
    "        logging.info('Topic %s is preserved for testing', topic_path.name.split('.')[0])\n",
    "        continue\n",
    "    df_topic = pd.read_csv(topic_path, usecols=['mention', 'mention_type'])\n",
    "    df_topic = df_topic[df_topic['mention_type'] == 3]\n",
    "    df = df.append(df_topic)\n",
    "    logging.info('shape: %s', df.shape[0])\n",
    "    \n",
    "df = df.dropna()\n",
    "df = df.drop_duplicates(subset=['mention'])\n",
    "# df = df.sample(1000000)\n",
    "df.to_csv('/source/main/data_for_train/output/train/pool_shared.csv', index=None)"
   ]
  },
  {
   "cell_type": "code",
   "execution_count": null,
   "metadata": {},
   "outputs": [],
   "source": [
    "preserved_topics = set(topic_ids.test_topics)\n",
    "path = Path('/source/main/data_for_train/output/train/pool/')\n",
    "social_path = path.glob('*.csv')\n",
    "df = pd.DataFrame()\n",
    "for topic_path in tqdm(list(social_path)):\n",
    "    if topic_path.name.split('.')[0] in preserved_topics:\n",
    "        logging.info('Topic %s is preserved for testing', topic_path.name.split('.')[0])\n",
    "        continue\n",
    "    df_topic = pd.read_csv(topic_path, usecols=['mention', 'mention_type'])\n",
    "    df = df.append(df_topic)\n",
    "    \n",
    "df = df.dropna()\n",
    "df = df.drop_duplicates(subset=['mention'])\n",
    "df = df.sample(2000000)\n",
    "df.to_csv('/source/main/data_for_train/output/train/pool.csv', index=None)"
   ]
  },
  {
   "cell_type": "code",
   "execution_count": null,
   "metadata": {},
   "outputs": [],
   "source": [
    "df.shape"
   ]
  },
  {
   "cell_type": "code",
   "execution_count": null,
   "metadata": {},
   "outputs": [],
   "source": [
    "df = df.dropna(how='any')"
   ]
  },
  {
   "cell_type": "code",
   "execution_count": null,
   "metadata": {},
   "outputs": [],
   "source": [
    "df.shape"
   ]
  },
  {
   "cell_type": "code",
   "execution_count": null,
   "metadata": {},
   "outputs": [],
   "source": [
    "df = df.drop_duplicates()"
   ]
  },
  {
   "cell_type": "code",
   "execution_count": null,
   "metadata": {},
   "outputs": [],
   "source": [
    "df.shape"
   ]
  },
  {
   "cell_type": "code",
   "execution_count": null,
   "metadata": {},
   "outputs": [],
   "source": [
    "df['mention'].isnull().sum()"
   ]
  },
  {
   "cell_type": "code",
   "execution_count": null,
   "metadata": {},
   "outputs": [],
   "source": [
    "df = df.sample(df.shape[0])"
   ]
  },
  {
   "cell_type": "code",
   "execution_count": null,
   "metadata": {},
   "outputs": [],
   "source": [
    "df.to_csv('/source/main/data_for_train/output/train/pool_shared.csv', index=None)"
   ]
  },
  {
   "cell_type": "code",
   "execution_count": null,
   "metadata": {},
   "outputs": [],
   "source": [
    "preserved_topics = set(topic_ids.test_topics)\n",
    "path = Path('/source/main/data_for_train/output/eval/pool/')\n",
    "social_path = path.glob('*.csv')\n",
    "df = pd.DataFrame()\n",
    "for topic_path in tqdm(list(social_path)):\n",
    "    if topic_path.name.split('.')[0] in preserved_topics:\n",
    "        logging.info('Topic %s is preserved for testing', topic_path.name.split('.')[0])\n",
    "        continue\n",
    "    df_topic = pd.read_csv(topic_path, usecols=['mention', 'mention_type'])\n",
    "    df = df.append(df_topic)\n",
    "df = df.dropna()\n",
    "df = df.drop_duplicates(subset=['mention'])\n",
    "df = df.sample(100000)\n",
    "df.to_csv('/source/main/data_for_train/output/eval/pool.csv', index=None)"
   ]
  },
  {
   "cell_type": "code",
   "execution_count": null,
   "metadata": {},
   "outputs": [],
   "source": [
    "df['mention_type'].value_counts()"
   ]
  },
  {
   "cell_type": "code",
   "execution_count": null,
   "metadata": {},
   "outputs": [],
   "source": [
    "preserved_topics = set(topic_ids.test_topics)\n",
    "path = Path('/source/main/data_for_train/output/test/pool/')\n",
    "social_path = path.glob('*.csv')\n",
    "df = pd.DataFrame()\n",
    "for topic_path in tqdm(list(social_path)):\n",
    "    if topic_path.name.split('.')[0] in preserved_topics:\n",
    "        logging.info('Topic %s is preserved for testing', topic_path.name.split('.')[0])\n",
    "        continue\n",
    "    df_topic = pd.read_csv(topic_path, usecols=['mention', 'mention_type'])\n",
    "    df = df.append(df_topic)\n",
    "    \n",
    "df = df.dropna()\n",
    "df = df.drop_duplicates(subset=['mention'])\n",
    "df = df.sample(100000)\n",
    "df.to_csv('/source/main/data_for_train/output/test/pool.csv', index=None)"
   ]
  },
  {
   "cell_type": "code",
   "execution_count": null,
   "metadata": {},
   "outputs": [],
   "source": [
    "df['mention_type'].value_counts()"
   ]
  },
  {
   "cell_type": "code",
   "execution_count": null,
   "metadata": {},
   "outputs": [],
   "source": [
    "df.to_csv('/source/main/data_for_train/output/eval/pool_shared.csv', index=None)"
   ]
  },
  {
   "cell_type": "code",
   "execution_count": null,
   "metadata": {},
   "outputs": [],
   "source": [
    "dataset_dir = '/source/main/data_for_train/output/test/pool'\n",
    "pool = PoolDocs(dataset_dir,max_size=1e5)\n",
    "df = pd.DataFrame({'mention': list(pool)})\n",
    "df.to_csv('/source/main/data_for_train/output/test/pool_shared.csv', index=None)"
   ]
  },
  {
   "cell_type": "code",
   "execution_count": null,
   "metadata": {},
   "outputs": [],
   "source": [
    "df = pd.read_csv('/source/main/data_for_train/output/train/positive_class_1.csv')"
   ]
  },
  {
   "cell_type": "code",
   "execution_count": null,
   "metadata": {},
   "outputs": [],
   "source": [
    "df.shape"
   ]
  },
  {
   "cell_type": "code",
   "execution_count": null,
   "metadata": {},
   "outputs": [],
   "source": [
    "df.dropna().shape"
   ]
  },
  {
   "cell_type": "code",
   "execution_count": null,
   "metadata": {},
   "outputs": [],
   "source": [
    "df.drop_duplicates().shape"
   ]
  },
  {
   "cell_type": "code",
   "execution_count": null,
   "metadata": {},
   "outputs": [],
   "source": []
  }
 ],
 "metadata": {
  "kernelspec": {
   "display_name": "Python 3",
   "language": "python",
   "name": "python3"
  },
  "language_info": {
   "codemirror_mode": {
    "name": "ipython",
    "version": 3
   },
   "file_extension": ".py",
   "mimetype": "text/x-python",
   "name": "python",
   "nbconvert_exporter": "python",
   "pygments_lexer": "ipython3",
   "version": "3.6.8"
  }
 },
 "nbformat": 4,
 "nbformat_minor": 2
}
