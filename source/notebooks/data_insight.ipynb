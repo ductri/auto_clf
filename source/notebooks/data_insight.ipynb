{
 "cells": [
  {
   "cell_type": "code",
   "execution_count": 1,
   "metadata": {},
   "outputs": [],
   "source": [
    "import matplotlib.pyplot as plt\n",
    "\n",
    "import sys\n",
    "sys.path.append('/source/main')"
   ]
  },
  {
   "cell_type": "code",
   "execution_count": 2,
   "metadata": {},
   "outputs": [],
   "source": [
    "import logging\n",
    "logging.basicConfig(level=logging.INFO)\n",
    "\n",
    "from data_for_train.shared_pool import PoolDocs as SharedPool\n",
    "from data_for_train.not_shared_pool import PoolDocs as NotSharedPool\n",
    "from data_for_train.positive_dataset import PositiveDataset\n",
    "\n",
    "import pandas as pd"
   ]
  },
  {
   "cell_type": "code",
   "execution_count": 14,
   "metadata": {},
   "outputs": [
    {
     "name": "stderr",
     "output_type": "stream",
     "text": [
      "INFO:root:Topic 20771 is preserved for testing\n",
      "INFO:root:Topic 20773 is preserved for testing\n",
      "INFO:root:Topic 20815 is preserved for testing\n",
      "INFO:root:Topic 36615 is preserved for testing\n",
      "INFO:root:Topic 31726 is preserved for testing\n",
      "INFO:root:Topic 36443 is preserved for testing\n",
      "INFO:root:Topic 20770 is preserved for testing\n",
      "INFO:root:Topic 21613 is preserved for testing\n",
      "INFO:root:Topic 20816 is preserved for testing\n",
      "INFO:root:Topic 32457 is preserved for testing\n",
      "INFO:root:Topic 6877 is preserved for testing\n",
      "INFO:root:Topic 19443 is preserved for testing\n",
      "INFO:root:Topic 4489 is preserved for testing\n",
      "INFO:root:Topic 20782 is preserved for testing\n",
      "INFO:root:Topic 31011 is preserved for testing\n",
      "INFO:root:Topic 20814 is preserved for testing\n",
      "INFO:root:Topic 31010 is preserved for testing\n",
      "INFO:root:Topic 35091 is preserved for testing\n",
      "INFO:root:Topic 6732 is preserved for testing\n",
      "INFO:root:Topic 36616 is preserved for testing\n",
      "INFO:root:Topic 25705 is preserved for testing\n",
      "INFO:root:Topic 4637 is preserved for testing\n",
      "INFO:root:Topic 20858 is preserved for testing\n",
      "INFO:root:Topic 25711 is preserved for testing\n",
      "INFO:root:Topic 26731 is preserved for testing\n",
      "INFO:root:Temp total: 794323\n"
     ]
    }
   ],
   "source": [
    "docs = SharedPool('/source/main/data_for_train/output/train/pool/')\n",
    "# df_share = pd.DataFrame({'mention': list(docs)})"
   ]
  },
  {
   "cell_type": "code",
   "execution_count": null,
   "metadata": {},
   "outputs": [],
   "source": [
    "docs = NotSharedPool('/source/main/data_for_train/output/train/pool/')\n",
    "# df_not_share = pd.DataFrame({'mention': list(docs)})"
   ]
  },
  {
   "cell_type": "code",
   "execution_count": 12,
   "metadata": {},
   "outputs": [],
   "source": [
    "pos_docs = PositiveDataset('/source/main/data_for_train/output/train/positive_class_1.csv')\n",
    "# df_positive = pd.DataFrame({'mention': list(docs)})"
   ]
  },
  {
   "cell_type": "code",
   "execution_count": 13,
   "metadata": {},
   "outputs": [
    {
     "data": {
      "text/plain": [
       "['__d__uk__d__pta __d__tr__d__ mua onl dc trừ __d__k nua fai ko shop',\n",
       " 'tivi sony __d__ in thông minh giá bao nhiêu vậy bạn',\n",
       " 'hộp sua pediasure nhiu z che',\n",
       " 'cho e xin giá tivi __d__nu__d__ nhé ạ',\n",
       " 'sữa nestlé nan nước này bao nhiêu tiền __d__ thùng vậy mom']"
      ]
     },
     "execution_count": 13,
     "metadata": {},
     "output_type": "execute_result"
    }
   ],
   "source": [
    "pos_docs[:5]"
   ]
  },
  {
   "cell_type": "code",
   "execution_count": 15,
   "metadata": {},
   "outputs": [
    {
     "data": {
      "text/plain": [
       "2"
      ]
     },
     "execution_count": 15,
     "metadata": {},
     "output_type": "execute_result"
    }
   ],
   "source": [
    "len(set(docs).intersection(set(pos_docs)))"
   ]
  },
  {
   "cell_type": "code",
   "execution_count": null,
   "metadata": {},
   "outputs": [],
   "source": [
    "len(docs)"
   ]
  },
  {
   "cell_type": "code",
   "execution_count": null,
   "metadata": {},
   "outputs": [],
   "source": [
    "df_share['len'] = df_share['mention'].map(len)\n",
    "df_not_share['len'] = df_not_share['mention'].map(len)\n",
    "df_positive['len'] = df_positive['mention'].map(len)"
   ]
  },
  {
   "cell_type": "code",
   "execution_count": null,
   "metadata": {},
   "outputs": [],
   "source": []
  },
  {
   "cell_type": "code",
   "execution_count": null,
   "metadata": {},
   "outputs": [],
   "source": [
    "fig = plt.figure()\n",
    "ax = plt.axes(xlim=(0, 500))\n",
    "df_share['len'].hist(bins=500, ax=ax)\n",
    "ax.set_title('SHARE')\n",
    "plt.show()"
   ]
  },
  {
   "cell_type": "code",
   "execution_count": null,
   "metadata": {},
   "outputs": [],
   "source": [
    "fig = plt.figure()\n",
    "ax = plt.axes(xlim=(0, 500))\n",
    "df_not_share['len'].hist(bins=500, ax=ax)\n",
    "ax.set_title('NOT SHARE')\n",
    "plt.show()"
   ]
  },
  {
   "cell_type": "code",
   "execution_count": null,
   "metadata": {},
   "outputs": [],
   "source": [
    "fig = plt.figure()\n",
    "ax = plt.axes(xlim=(0, 500))\n",
    "df_positive['len'].hist(bins=500, ax=ax)\n",
    "ax.set_title('POSITIVE')\n",
    "plt.show()"
   ]
  },
  {
   "cell_type": "code",
   "execution_count": null,
   "metadata": {},
   "outputs": [],
   "source": []
  },
  {
   "cell_type": "markdown",
   "metadata": {},
   "source": [
    "# Debug"
   ]
  },
  {
   "cell_type": "code",
   "execution_count": null,
   "metadata": {},
   "outputs": [],
   "source": [
    "docs = NotSharedPool('/source/main/data_for_train/output/train/pool/', max_size=9e5)\n",
    "df_not_share = pd.DataFrame({'mention': list(docs)})"
   ]
  },
  {
   "cell_type": "code",
   "execution_count": null,
   "metadata": {},
   "outputs": [],
   "source": [
    "df_not_share.shape"
   ]
  },
  {
   "cell_type": "code",
   "execution_count": null,
   "metadata": {},
   "outputs": [],
   "source": [
    "df_positive.shape"
   ]
  },
  {
   "cell_type": "code",
   "execution_count": null,
   "metadata": {},
   "outputs": [],
   "source": [
    "set(df_positive['mention']).intersection(set(df_not_share['mention']))"
   ]
  },
  {
   "cell_type": "code",
   "execution_count": null,
   "metadata": {},
   "outputs": [],
   "source": []
  }
 ],
 "metadata": {
  "kernelspec": {
   "display_name": "Python 3",
   "language": "python",
   "name": "python3"
  },
  "language_info": {
   "codemirror_mode": {
    "name": "ipython",
    "version": 3
   },
   "file_extension": ".py",
   "mimetype": "text/x-python",
   "name": "python",
   "nbconvert_exporter": "python",
   "pygments_lexer": "ipython3",
   "version": "3.6.8"
  }
 },
 "nbformat": 4,
 "nbformat_minor": 2
}
