{
 "cells": [
  {
   "cell_type": "code",
   "execution_count": 1,
   "metadata": {},
   "outputs": [],
   "source": [
    "import sys\n",
    "sys.path.append('/source/main')"
   ]
  },
  {
   "cell_type": "code",
   "execution_count": 2,
   "metadata": {},
   "outputs": [],
   "source": [
    "import ast\n",
    "\n",
    "from tqdm import tqdm\n",
    "from pathlib import Path\n",
    "import pandas as pd\n",
    "pd.set_option('display.max_colwidth', -1)\n",
    "from joblib import Parallel, delayed\n",
    "\n",
    "from preprocess import preprocessor"
   ]
  },
  {
   "cell_type": "code",
   "execution_count": 3,
   "metadata": {},
   "outputs": [],
   "source": [
    "root = Path('/source/main/data_download/output/topics')"
   ]
  },
  {
   "cell_type": "code",
   "execution_count": 4,
   "metadata": {},
   "outputs": [
    {
     "name": "stderr",
     "output_type": "stream",
     "text": [
      " 10%|█         | 31/302 [01:45<07:55,  1.75s/it] /opt/conda/lib/python3.6/site-packages/IPython/core/interactiveshell.py:3020: DtypeWarning: Columns (5) have mixed types. Specify dtype option on import or set low_memory=False.\n",
      "  interactivity=interactivity, compiler=compiler, result=result)\n",
      " 42%|████▏     | 127/302 [06:26<03:57,  1.35s/it]/opt/conda/lib/python3.6/site-packages/IPython/core/interactiveshell.py:3020: DtypeWarning: Columns (8) have mixed types. Specify dtype option on import or set low_memory=False.\n",
      "  interactivity=interactivity, compiler=compiler, result=result)\n",
      "100%|██████████| 302/302 [15:40<00:00,  1.45s/it]\n"
     ]
    }
   ],
   "source": [
    "for idx, p in tqdm(list(enumerate(root.glob('*.csv')))):\n",
    "    df = pd.read_csv(str(p))\n",
    "    df = df[df['mention_type'] == 3]\n",
    "    if df.shape[0] == 0:\n",
    "        continue\n",
    "    df['mention'] = df['search_text'].map(lambda x: ast.literal_eval(x)[1])\n",
    "    df['mention'] = Parallel(n_jobs=-1)(delayed(preprocessor.preprocess_text)(doc) for doc in list(df['mention']))\n",
    "    \n",
    "    del df['search_text']\n",
    "    df.to_csv('/source/main/preprocess/output/topics/%s' % p.name, index=None)\n"
   ]
  },
  {
   "cell_type": "code",
   "execution_count": 1,
   "metadata": {},
   "outputs": [],
   "source": [
    "import pandas as pd"
   ]
  },
  {
   "cell_type": "code",
   "execution_count": 4,
   "metadata": {},
   "outputs": [],
   "source": [
    "df = pd.read_csv('/source/main/data_download/output/topics/4084.csv')"
   ]
  },
  {
   "cell_type": "code",
   "execution_count": 5,
   "metadata": {},
   "outputs": [
    {
     "data": {
      "text/plain": [
       "(195615, 14)"
      ]
     },
     "execution_count": 5,
     "metadata": {},
     "output_type": "execute_result"
    }
   ],
   "source": [
    "df.shape"
   ]
  },
  {
   "cell_type": "code",
   "execution_count": 6,
   "metadata": {},
   "outputs": [
    {
     "data": {
      "text/plain": [
       "2    164306\n",
       "3     24484\n",
       "1      6825\n",
       "Name: mention_type, dtype: int64"
      ]
     },
     "execution_count": 6,
     "metadata": {},
     "output_type": "execute_result"
    }
   ],
   "source": [
    "df['mention_type'].value_counts()"
   ]
  },
  {
   "cell_type": "code",
   "execution_count": 7,
   "metadata": {},
   "outputs": [
    {
     "data": {
      "text/html": [
       "<div>\n",
       "<style scoped>\n",
       "    .dataframe tbody tr th:only-of-type {\n",
       "        vertical-align: middle;\n",
       "    }\n",
       "\n",
       "    .dataframe tbody tr th {\n",
       "        vertical-align: top;\n",
       "    }\n",
       "\n",
       "    .dataframe thead th {\n",
       "        text-align: right;\n",
       "    }\n",
       "</style>\n",
       "<table border=\"1\" class=\"dataframe\">\n",
       "  <thead>\n",
       "    <tr style=\"text-align: right;\">\n",
       "      <th></th>\n",
       "      <th>id</th>\n",
       "      <th>copied_at</th>\n",
       "      <th>search_text</th>\n",
       "      <th>sentiment</th>\n",
       "      <th>sentiment_auto</th>\n",
       "      <th>tags</th>\n",
       "      <th>link</th>\n",
       "      <th>platform</th>\n",
       "      <th>id_reference</th>\n",
       "      <th>created_date</th>\n",
       "      <th>mention_type</th>\n",
       "      <th>id_source</th>\n",
       "      <th>source_type</th>\n",
       "      <th>topic_id</th>\n",
       "    </tr>\n",
       "  </thead>\n",
       "  <tbody>\n",
       "    <tr>\n",
       "      <th>196</th>\n",
       "      <td>a50bdfd2-029e-5b7f-a644-d1a2948ca665</td>\n",
       "      <td>2018-03-03T05:22:22.982Z</td>\n",
       "      <td>['', '', '{\"ynm_des\":\" MFGM – một dưỡng chất v...</td>\n",
       "      <td>1</td>\n",
       "      <td>0.0</td>\n",
       "      <td>NaN</td>\n",
       "      <td>fb.com/100005054955991_920981138080376</td>\n",
       "      <td>1</td>\n",
       "      <td>NaN</td>\n",
       "      <td>2018-03-02T09:20:19Z</td>\n",
       "      <td>3</td>\n",
       "      <td>fb_100005054955991</td>\n",
       "      <td>1.0</td>\n",
       "      <td>4084</td>\n",
       "    </tr>\n",
       "    <tr>\n",
       "      <th>197</th>\n",
       "      <td>16e9952d-165a-50c9-8e83-16566275bfea</td>\n",
       "      <td>2018-03-03T05:22:22.982Z</td>\n",
       "      <td>['', \"W22'...2\", '{\"ynm_des\":\" MFGM – một dưỡn...</td>\n",
       "      <td>1</td>\n",
       "      <td>0.0</td>\n",
       "      <td>NaN</td>\n",
       "      <td>fb.com/100005054955991_920981101413713</td>\n",
       "      <td>1</td>\n",
       "      <td>NaN</td>\n",
       "      <td>2018-03-02T09:20:14Z</td>\n",
       "      <td>3</td>\n",
       "      <td>fb_100005054955991</td>\n",
       "      <td>1.0</td>\n",
       "      <td>4084</td>\n",
       "    </tr>\n",
       "    <tr>\n",
       "      <th>304</th>\n",
       "      <td>5c72f183-1031-5b23-a187-9ceb8019d2f8</td>\n",
       "      <td>2018-03-04T06:21:19.701Z</td>\n",
       "      <td>['', 'SỮA ENFAGROW PREMIUM - NON GMO - 680g\\n\\...</td>\n",
       "      <td>0</td>\n",
       "      <td>1.0</td>\n",
       "      <td>[110703]</td>\n",
       "      <td>fb.com/100003674719910_1286683758130769</td>\n",
       "      <td>1</td>\n",
       "      <td>NaN</td>\n",
       "      <td>2018-03-04T06:05:56Z</td>\n",
       "      <td>3</td>\n",
       "      <td>fb_100003674719910</td>\n",
       "      <td>1.0</td>\n",
       "      <td>4084</td>\n",
       "    </tr>\n",
       "    <tr>\n",
       "      <th>306</th>\n",
       "      <td>03648257-32f0-503a-bac2-e7971d128e3c</td>\n",
       "      <td>2018-03-07T10:49:59.380Z</td>\n",
       "      <td>['', '', '{\"ynm_des\":\" 🆘🆘🆘Chúng ta biết rằng 8...</td>\n",
       "      <td>0</td>\n",
       "      <td>0.0</td>\n",
       "      <td>[110703]</td>\n",
       "      <td>fb.com/100005562030013_764983437030384</td>\n",
       "      <td>1</td>\n",
       "      <td>NaN</td>\n",
       "      <td>2018-03-04T17:19:53Z</td>\n",
       "      <td>3</td>\n",
       "      <td>fb_100005562030013</td>\n",
       "      <td>1.0</td>\n",
       "      <td>4084</td>\n",
       "    </tr>\n",
       "    <tr>\n",
       "      <th>307</th>\n",
       "      <td>71b0ee1d-07ae-5383-8b5c-e1b1ca9447e0</td>\n",
       "      <td>2018-03-08T11:12:58.599Z</td>\n",
       "      <td>['', '', '{\"ynm_des\":\" Sữa ENFAGROW dành cho b...</td>\n",
       "      <td>0</td>\n",
       "      <td>0.0</td>\n",
       "      <td>[110703]</td>\n",
       "      <td>fb.com/100002221012633_1682982045119146</td>\n",
       "      <td>1</td>\n",
       "      <td>NaN</td>\n",
       "      <td>2018-03-04T12:33:49Z</td>\n",
       "      <td>3</td>\n",
       "      <td>fb_100002221012633</td>\n",
       "      <td>1.0</td>\n",
       "      <td>4084</td>\n",
       "    </tr>\n",
       "  </tbody>\n",
       "</table>\n",
       "</div>"
      ],
      "text/plain": [
       "                                       id                 copied_at  \\\n",
       "196  a50bdfd2-029e-5b7f-a644-d1a2948ca665  2018-03-03T05:22:22.982Z   \n",
       "197  16e9952d-165a-50c9-8e83-16566275bfea  2018-03-03T05:22:22.982Z   \n",
       "304  5c72f183-1031-5b23-a187-9ceb8019d2f8  2018-03-04T06:21:19.701Z   \n",
       "306  03648257-32f0-503a-bac2-e7971d128e3c  2018-03-07T10:49:59.380Z   \n",
       "307  71b0ee1d-07ae-5383-8b5c-e1b1ca9447e0  2018-03-08T11:12:58.599Z   \n",
       "\n",
       "                                           search_text  sentiment  \\\n",
       "196  ['', '', '{\"ynm_des\":\" MFGM – một dưỡng chất v...          1   \n",
       "197  ['', \"W22'...2\", '{\"ynm_des\":\" MFGM – một dưỡn...          1   \n",
       "304  ['', 'SỮA ENFAGROW PREMIUM - NON GMO - 680g\\n\\...          0   \n",
       "306  ['', '', '{\"ynm_des\":\" 🆘🆘🆘Chúng ta biết rằng 8...          0   \n",
       "307  ['', '', '{\"ynm_des\":\" Sữa ENFAGROW dành cho b...          0   \n",
       "\n",
       "     sentiment_auto      tags                                     link  \\\n",
       "196             0.0       NaN   fb.com/100005054955991_920981138080376   \n",
       "197             0.0       NaN   fb.com/100005054955991_920981101413713   \n",
       "304             1.0  [110703]  fb.com/100003674719910_1286683758130769   \n",
       "306             0.0  [110703]   fb.com/100005562030013_764983437030384   \n",
       "307             0.0  [110703]  fb.com/100002221012633_1682982045119146   \n",
       "\n",
       "     platform id_reference          created_date  mention_type  \\\n",
       "196         1          NaN  2018-03-02T09:20:19Z             3   \n",
       "197         1          NaN  2018-03-02T09:20:14Z             3   \n",
       "304         1          NaN  2018-03-04T06:05:56Z             3   \n",
       "306         1          NaN  2018-03-04T17:19:53Z             3   \n",
       "307         1          NaN  2018-03-04T12:33:49Z             3   \n",
       "\n",
       "              id_source  source_type  topic_id  \n",
       "196  fb_100005054955991          1.0      4084  \n",
       "197  fb_100005054955991          1.0      4084  \n",
       "304  fb_100003674719910          1.0      4084  \n",
       "306  fb_100005562030013          1.0      4084  \n",
       "307  fb_100002221012633          1.0      4084  "
      ]
     },
     "execution_count": 7,
     "metadata": {},
     "output_type": "execute_result"
    }
   ],
   "source": [
    "df[df['mention_type']==3].head()"
   ]
  },
  {
   "cell_type": "code",
   "execution_count": 8,
   "metadata": {},
   "outputs": [],
   "source": [
    "df = pd.read_csv('/source/main/preprocess/output/topics/4084.csv')"
   ]
  },
  {
   "cell_type": "code",
   "execution_count": 9,
   "metadata": {},
   "outputs": [
    {
     "data": {
      "text/plain": [
       "3    10333\n",
       "Name: mention_type, dtype: int64"
      ]
     },
     "execution_count": 9,
     "metadata": {},
     "output_type": "execute_result"
    }
   ],
   "source": [
    "df['mention_type'].value_counts()"
   ]
  },
  {
   "cell_type": "code",
   "execution_count": 10,
   "metadata": {},
   "outputs": [
    {
     "data": {
      "text/html": [
       "<div>\n",
       "<style scoped>\n",
       "    .dataframe tbody tr th:only-of-type {\n",
       "        vertical-align: middle;\n",
       "    }\n",
       "\n",
       "    .dataframe tbody tr th {\n",
       "        vertical-align: top;\n",
       "    }\n",
       "\n",
       "    .dataframe thead th {\n",
       "        text-align: right;\n",
       "    }\n",
       "</style>\n",
       "<table border=\"1\" class=\"dataframe\">\n",
       "  <thead>\n",
       "    <tr style=\"text-align: right;\">\n",
       "      <th></th>\n",
       "      <th>id</th>\n",
       "      <th>copied_at</th>\n",
       "      <th>sentiment</th>\n",
       "      <th>sentiment_auto</th>\n",
       "      <th>tags</th>\n",
       "      <th>link</th>\n",
       "      <th>platform</th>\n",
       "      <th>id_reference</th>\n",
       "      <th>created_date</th>\n",
       "      <th>mention_type</th>\n",
       "      <th>id_source</th>\n",
       "      <th>source_type</th>\n",
       "      <th>topic_id</th>\n",
       "      <th>mention</th>\n",
       "    </tr>\n",
       "  </thead>\n",
       "  <tbody>\n",
       "    <tr>\n",
       "      <th>0</th>\n",
       "      <td>16e9952d-165a-50c9-8e83-16566275bfea</td>\n",
       "      <td>2018-03-03T05:22:22.982Z</td>\n",
       "      <td>1</td>\n",
       "      <td>0.0</td>\n",
       "      <td>NaN</td>\n",
       "      <td>fb.com/100005054955991_920981101413713</td>\n",
       "      <td>1</td>\n",
       "      <td>NaN</td>\n",
       "      <td>2018-03-02T09:20:14Z</td>\n",
       "      <td>3</td>\n",
       "      <td>fb_100005054955991</td>\n",
       "      <td>1.0</td>\n",
       "      <td>4084</td>\n",
       "      <td>w__d__ ' ... __d__</td>\n",
       "    </tr>\n",
       "    <tr>\n",
       "      <th>1</th>\n",
       "      <td>5c72f183-1031-5b23-a187-9ceb8019d2f8</td>\n",
       "      <td>2018-03-04T06:21:19.701Z</td>\n",
       "      <td>0</td>\n",
       "      <td>1.0</td>\n",
       "      <td>[110703]</td>\n",
       "      <td>fb.com/100003674719910_1286683758130769</td>\n",
       "      <td>1</td>\n",
       "      <td>NaN</td>\n",
       "      <td>2018-03-04T06:05:56Z</td>\n",
       "      <td>3</td>\n",
       "      <td>fb_100003674719910</td>\n",
       "      <td>1.0</td>\n",
       "      <td>4084</td>\n",
       "      <td>sữa enfagrow premium - non gmo - __d__g giá : ...</td>\n",
       "    </tr>\n",
       "    <tr>\n",
       "      <th>2</th>\n",
       "      <td>fe6d43c6-dbd7-536e-8e29-9ebe3b11c01a</td>\n",
       "      <td>2018-03-01T05:23:06.661Z</td>\n",
       "      <td>0</td>\n",
       "      <td>1.0</td>\n",
       "      <td>NaN</td>\n",
       "      <td>fb.com/100001697604512_1632389473494290</td>\n",
       "      <td>1</td>\n",
       "      <td>NaN</td>\n",
       "      <td>2018-03-01T05:17:42Z</td>\n",
       "      <td>3</td>\n",
       "      <td>fb_100001697604512</td>\n",
       "      <td>1.0</td>\n",
       "      <td>4084</td>\n",
       "      <td>được __d__ năm rồi nhỉ . cảm ơn quý khách đã y...</td>\n",
       "    </tr>\n",
       "    <tr>\n",
       "      <th>3</th>\n",
       "      <td>bae4e0b0-f419-5073-97ee-8f389071de57</td>\n",
       "      <td>2018-03-05T05:28:22.760Z</td>\n",
       "      <td>0</td>\n",
       "      <td>0.0</td>\n",
       "      <td>[110703]</td>\n",
       "      <td>fb.com/100013784883105_376461772823316</td>\n",
       "      <td>1</td>\n",
       "      <td>NaN</td>\n",
       "      <td>2018-03-05T05:20:41Z</td>\n",
       "      <td>3</td>\n",
       "      <td>fb_100013784883105</td>\n",
       "      <td>1.0</td>\n",
       "      <td>4084</td>\n",
       "      <td>hàng mỹ chính hãng . ba mẹ mình xách tay về để...</td>\n",
       "    </tr>\n",
       "    <tr>\n",
       "      <th>4</th>\n",
       "      <td>4a81e127-0117-584d-9ce6-7e352d74751f</td>\n",
       "      <td>2018-03-10T05:21:54.539Z</td>\n",
       "      <td>1</td>\n",
       "      <td>1.0</td>\n",
       "      <td>NaN</td>\n",
       "      <td>fb.com/429300583784286_1610924032288596</td>\n",
       "      <td>1</td>\n",
       "      <td>NaN</td>\n",
       "      <td>2018-03-10T05:14:11Z</td>\n",
       "      <td>3</td>\n",
       "      <td>fb_429300583784286</td>\n",
       "      <td>2.0</td>\n",
       "      <td>4084</td>\n",
       "      <td>enfaday tặng mẹ __d__ lon sữa hoặc __d__ bộ đồ...</td>\n",
       "    </tr>\n",
       "  </tbody>\n",
       "</table>\n",
       "</div>"
      ],
      "text/plain": [
       "                                     id                 copied_at  sentiment  \\\n",
       "0  16e9952d-165a-50c9-8e83-16566275bfea  2018-03-03T05:22:22.982Z          1   \n",
       "1  5c72f183-1031-5b23-a187-9ceb8019d2f8  2018-03-04T06:21:19.701Z          0   \n",
       "2  fe6d43c6-dbd7-536e-8e29-9ebe3b11c01a  2018-03-01T05:23:06.661Z          0   \n",
       "3  bae4e0b0-f419-5073-97ee-8f389071de57  2018-03-05T05:28:22.760Z          0   \n",
       "4  4a81e127-0117-584d-9ce6-7e352d74751f  2018-03-10T05:21:54.539Z          1   \n",
       "\n",
       "   sentiment_auto      tags                                     link  \\\n",
       "0             0.0       NaN   fb.com/100005054955991_920981101413713   \n",
       "1             1.0  [110703]  fb.com/100003674719910_1286683758130769   \n",
       "2             1.0       NaN  fb.com/100001697604512_1632389473494290   \n",
       "3             0.0  [110703]   fb.com/100013784883105_376461772823316   \n",
       "4             1.0       NaN  fb.com/429300583784286_1610924032288596   \n",
       "\n",
       "   platform  id_reference          created_date  mention_type  \\\n",
       "0         1           NaN  2018-03-02T09:20:14Z             3   \n",
       "1         1           NaN  2018-03-04T06:05:56Z             3   \n",
       "2         1           NaN  2018-03-01T05:17:42Z             3   \n",
       "3         1           NaN  2018-03-05T05:20:41Z             3   \n",
       "4         1           NaN  2018-03-10T05:14:11Z             3   \n",
       "\n",
       "            id_source  source_type  topic_id  \\\n",
       "0  fb_100005054955991          1.0      4084   \n",
       "1  fb_100003674719910          1.0      4084   \n",
       "2  fb_100001697604512          1.0      4084   \n",
       "3  fb_100013784883105          1.0      4084   \n",
       "4  fb_429300583784286          2.0      4084   \n",
       "\n",
       "                                             mention  \n",
       "0                                 w__d__ ' ... __d__  \n",
       "1  sữa enfagrow premium - non gmo - __d__g giá : ...  \n",
       "2  được __d__ năm rồi nhỉ . cảm ơn quý khách đã y...  \n",
       "3  hàng mỹ chính hãng . ba mẹ mình xách tay về để...  \n",
       "4  enfaday tặng mẹ __d__ lon sữa hoặc __d__ bộ đồ...  "
      ]
     },
     "execution_count": 10,
     "metadata": {},
     "output_type": "execute_result"
    }
   ],
   "source": [
    "df.head()"
   ]
  },
  {
   "cell_type": "code",
   "execution_count": null,
   "metadata": {},
   "outputs": [],
   "source": []
  }
 ],
 "metadata": {
  "kernelspec": {
   "display_name": "Python 3",
   "language": "python",
   "name": "python3"
  },
  "language_info": {
   "codemirror_mode": {
    "name": "ipython",
    "version": 3
   },
   "file_extension": ".py",
   "mimetype": "text/x-python",
   "name": "python",
   "nbconvert_exporter": "python",
   "pygments_lexer": "ipython3",
   "version": "3.6.8"
  }
 },
 "nbformat": 4,
 "nbformat_minor": 2
}
