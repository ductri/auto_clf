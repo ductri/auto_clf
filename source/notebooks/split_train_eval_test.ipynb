{
 "cells": [
  {
   "cell_type": "code",
   "execution_count": 1,
   "metadata": {},
   "outputs": [],
   "source": [
    "from pathlib import Path\n",
    "\n",
    "import pandas as pd\n",
    "from tqdm import tqdm"
   ]
  },
  {
   "cell_type": "code",
   "execution_count": 2,
   "metadata": {},
   "outputs": [],
   "source": [
    "RANDOM_SEED = 42"
   ]
  },
  {
   "cell_type": "markdown",
   "metadata": {},
   "source": [
    "# pool"
   ]
  },
  {
   "cell_type": "code",
   "execution_count": 3,
   "metadata": {},
   "outputs": [],
   "source": [
    "root = Path('/source/main/data_for_train/output/huge_pool/topics')"
   ]
  },
  {
   "cell_type": "code",
   "execution_count": 4,
   "metadata": {},
   "outputs": [
    {
     "name": "stderr",
     "output_type": "stream",
     "text": [
      " 10%|█         | 31/302 [02:14<09:30,  2.10s/it] /opt/conda/lib/python3.6/site-packages/IPython/core/interactiveshell.py:3020: DtypeWarning: Columns (5) have mixed types. Specify dtype option on import or set low_memory=False.\n",
      "  interactivity=interactivity, compiler=compiler, result=result)\n",
      " 42%|████▏     | 127/302 [07:52<05:17,  1.82s/it]/opt/conda/lib/python3.6/site-packages/IPython/core/interactiveshell.py:3020: DtypeWarning: Columns (8) have mixed types. Specify dtype option on import or set low_memory=False.\n",
      "  interactivity=interactivity, compiler=compiler, result=result)\n",
      "100%|██████████| 302/302 [18:28<00:00,  2.32s/it]\n"
     ]
    }
   ],
   "source": [
    "for topic in tqdm(list(root.glob('*.csv'))):\n",
    "    df = pd.read_csv(str(topic))\n",
    "    df = df.sample(df.shape[0], random_state=RANDOM_SEED)\n",
    "    test_size = int(df.shape[0]*0.1)\n",
    "    df_test = df.iloc[:test_size, :]\n",
    "    df_eval = df.iloc[test_size:2*test_size, :]\n",
    "    df_train = df.iloc[2*test_size:, :]\n",
    "    df_test.to_csv('/source/main/data_for_train/output/test/pool/%s' % topic.name, index=None)\n",
    "    df_eval.to_csv('/source/main/data_for_train/output/eval/pool/%s' % topic.name, index=None)\n",
    "    df_train.to_csv('/source/main/data_for_train/output/train/pool/%s' % topic.name, index=None)"
   ]
  },
  {
   "cell_type": "markdown",
   "metadata": {},
   "source": [
    "# positive class"
   ]
  },
  {
   "cell_type": "code",
   "execution_count": 6,
   "metadata": {},
   "outputs": [],
   "source": [
    "df = pd.read_csv('/source/main/data_for_train/output/positive_class_1.csv')\n",
    "test_size = int(df.shape[0]*0.1)\n",
    "df_test = df.iloc[:test_size, :]\n",
    "df_eval = df.iloc[test_size:2*test_size, :]\n",
    "df_train = df.iloc[2*test_size:, :]\n",
    "df_test.to_csv('/source/main/data_for_train/output/test/positive_class_1.csv', index=None)\n",
    "df_eval.to_csv('/source/main/data_for_train/output/eval/positive_class_1.csv', index=None)\n",
    "df_train.to_csv('/source/main/data_for_train/output/train/positive_class_1.csv', index=None)"
   ]
  },
  {
   "cell_type": "code",
   "execution_count": null,
   "metadata": {},
   "outputs": [],
   "source": []
  }
 ],
 "metadata": {
  "kernelspec": {
   "display_name": "Python 3",
   "language": "python",
   "name": "python3"
  },
  "language_info": {
   "codemirror_mode": {
    "name": "ipython",
    "version": 3
   },
   "file_extension": ".py",
   "mimetype": "text/x-python",
   "name": "python",
   "nbconvert_exporter": "python",
   "pygments_lexer": "ipython3",
   "version": "3.6.8"
  }
 },
 "nbformat": 4,
 "nbformat_minor": 2
}
