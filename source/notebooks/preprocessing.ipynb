{
 "cells": [
  {
   "cell_type": "code",
   "execution_count": 1,
   "metadata": {},
   "outputs": [],
   "source": [
    "import sys\n",
    "sys.path.append('/source/main')"
   ]
  },
  {
   "cell_type": "code",
   "execution_count": 2,
   "metadata": {},
   "outputs": [],
   "source": [
    "import pandas as pd\n",
    "\n",
    "from preprocess import preprocessor"
   ]
  },
  {
   "cell_type": "code",
   "execution_count": 3,
   "metadata": {},
   "outputs": [],
   "source": [
    "pd.set_option('display.max_colwidth', -1)"
   ]
  },
  {
   "cell_type": "code",
   "execution_count": 4,
   "metadata": {},
   "outputs": [],
   "source": [
    "CLASS_NAME = 'positive_class_11'"
   ]
  },
  {
   "cell_type": "code",
   "execution_count": 5,
   "metadata": {},
   "outputs": [],
   "source": [
    "df = pd.read_csv('/source/main/data_download/output/%s.csv' % CLASS_NAME)"
   ]
  },
  {
   "cell_type": "code",
   "execution_count": 6,
   "metadata": {},
   "outputs": [
    {
     "data": {
      "text/plain": [
       "(4663, 15)"
      ]
     },
     "execution_count": 6,
     "metadata": {},
     "output_type": "execute_result"
    }
   ],
   "source": [
    "df.shape"
   ]
  },
  {
   "cell_type": "code",
   "execution_count": 7,
   "metadata": {},
   "outputs": [],
   "source": [
    "df['mention'] = df['mention'].map(lambda x: preprocessor.train_preprocess(x, 100))"
   ]
  },
  {
   "cell_type": "code",
   "execution_count": 8,
   "metadata": {},
   "outputs": [
    {
     "data": {
      "text/plain": [
       "3345    zuymy vu lúc trong thang thi be đi dc vi uong similac nhung k len kg nhieu nen minh đổi voi lại be cung k hop tac lam . đoi qa sua nay hop tac thi lai bi táo                        \n",
       "2579    smilac có mùi hơi đậm ... xong bé di ị cũng rất thúi và đen thui ak nen mình hok cho bé uóng nua nhưng đặc biêtj là similac k ngọt mom ak .mọi bé khác nhau mà nếu bé thích thì ok mà\n",
       "1297    cải bắp mình ms thay glico thấy con đi đỡ rặn hơn đấy m ạ , trước meji với friso đều rặn , với do cơ địa bé vậy chứ trước giờ con mình đều __d__,__d__ ngày                          \n",
       "899     ánh nguyệt nếu muốn sổ sữa e cho bé uống delac uptimun , chị cho bé uống enfa __d__ năm vì đó là giai đoạn vàng để phát triển trí não , sau __d__ tuổi bé chị uống delac uptimun     \n",
       "1434    con em uống friso . sau đến __d__tha chuyển qua similac                                                                                                                              \n",
       "1294    các m ơi . e đang dùng friso việt g đổi qua nga đc k mấy m                                                                                                                           \n",
       "3811    um b. dùng tầm __d__,__d__ lon là fai dừng . m dùng pedi của úc đó . b có thể dùng a__d__ vàng . con m jo đang uống sữa hạt và dữa tươi ban ngày .                                   \n",
       "1235    cm cho e hỏi hikd táo ko e cho dùng frisogold đc mấy ngày ỉa ra màu luôn giờ muốn chuyển sữa dê liệu có hấp thụ tốt hơn ko sữa nào ko táo cm ơi                                      \n",
       "3949    thùy trang trước uống pediasure giờ uống th true milk b ơi tùy cơ địa thôi ah bé m ôm cao bù lại 😁                                                                                   \n",
       "4022    để mình đổi sữa cho con , pediasure mà k tác dụng với nó luôn                                                                                                                        \n",
       "Name: mention, dtype: object"
      ]
     },
     "execution_count": 8,
     "metadata": {},
     "output_type": "execute_result"
    }
   ],
   "source": [
    "df['mention'].sample(10)"
   ]
  },
  {
   "cell_type": "code",
   "execution_count": 9,
   "metadata": {},
   "outputs": [],
   "source": [
    "df = df.drop_duplicates()"
   ]
  },
  {
   "cell_type": "code",
   "execution_count": 10,
   "metadata": {},
   "outputs": [],
   "source": [
    "df = df.sample(df.shape[0])"
   ]
  },
  {
   "cell_type": "code",
   "execution_count": 11,
   "metadata": {},
   "outputs": [],
   "source": [
    "size = int(df.shape[0]*0.1)"
   ]
  },
  {
   "cell_type": "code",
   "execution_count": 12,
   "metadata": {},
   "outputs": [
    {
     "data": {
      "text/plain": [
       "466"
      ]
     },
     "execution_count": 12,
     "metadata": {},
     "output_type": "execute_result"
    }
   ],
   "source": [
    "size"
   ]
  },
  {
   "cell_type": "code",
   "execution_count": 13,
   "metadata": {},
   "outputs": [],
   "source": [
    "df.iloc[:size, :].to_csv('/source/main/data_for_train/output/test/%s.csv' % CLASS_NAME, index=None)\n",
    "df.iloc[size:2*size, :].to_csv('/source/main/data_for_train/output/eval/%s.csv' % CLASS_NAME, index=None)\n",
    "df.iloc[2*size:, :].to_csv('/source/main/data_for_train/output/train/%s.csv' % CLASS_NAME, index=None)"
   ]
  },
  {
   "cell_type": "code",
   "execution_count": null,
   "metadata": {},
   "outputs": [],
   "source": []
  }
 ],
 "metadata": {
  "kernelspec": {
   "display_name": "Python 3",
   "language": "python",
   "name": "python3"
  },
  "language_info": {
   "codemirror_mode": {
    "name": "ipython",
    "version": 3
   },
   "file_extension": ".py",
   "mimetype": "text/x-python",
   "name": "python",
   "nbconvert_exporter": "python",
   "pygments_lexer": "ipython3",
   "version": "3.6.8"
  }
 },
 "nbformat": 4,
 "nbformat_minor": 2
}
