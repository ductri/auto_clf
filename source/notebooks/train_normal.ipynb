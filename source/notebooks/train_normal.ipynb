{
 "cells": [
  {
   "cell_type": "code",
   "execution_count": 1,
   "metadata": {},
   "outputs": [],
   "source": [
    "import sys\n",
    "sys.path.append('/source/main')"
   ]
  },
  {
   "cell_type": "code",
   "execution_count": 2,
   "metadata": {},
   "outputs": [],
   "source": [
    "import os\n",
    "import logging\n",
    "from datetime import datetime\n",
    "import time\n",
    "from itertools import chain\n",
    "\n",
    "import pandas as pd\n",
    "import numpy as np\n",
    "import torch\n",
    "from tqdm import tqdm\n",
    "from naruto_skills.new_voc import Voc\n",
    "from torch.utils.data import DataLoader, Subset, Dataset\n",
    "import matplotlib.pyplot as plt\n",
    "\n",
    "from model_def.siamese_core import SiameseModelCore\n",
    "from model_def.wrap_core_model import WrapSiameseModelCore\n",
    "from data_for_train.pool import PoolDocs\n",
    "from utils import pytorch_utils\n",
    "from preprocess import preprocessor\n",
    "from data_for_train.index_dataset import IndexDataset\n",
    "from data_for_train.positive_dataset import PositiveDataset\n",
    "from naruto_skills.training_checker import TrainingChecker"
   ]
  },
  {
   "cell_type": "code",
   "execution_count": null,
   "metadata": {},
   "outputs": [],
   "source": [
    "logging.basicConfig(level=logging.INFO)\n",
    "pd.set_option('display.max_colwidth', -1)"
   ]
  },
  {
   "cell_type": "code",
   "execution_count": null,
   "metadata": {},
   "outputs": [],
   "source": [
    "def docs2input_tensors(docs, device):\n",
    "    preprocessed_docs = [preprocessor.infer_preprocess(doc) for doc in docs]\n",
    "#     max_len = max([len(item.split()) for item in preprocessed_docs])\n",
    "    max_len = 100\n",
    "    preprocessed_docs = [' '.join(doc.split()[:max_len]) for doc in preprocessed_docs]\n",
    "    word_input = voc.docs2idx(preprocessed_docs, equal_length=max_len)\n",
    "    inputs = np.array(word_input)\n",
    "    input_tensors = torch.from_numpy(inputs)\n",
    "    input_tensors = input_tensors.to(device)\n",
    "    return input_tensors\n",
    "\n",
    "def predict_batch(docs):\n",
    "    with torch.no_grad():\n",
    "        input_tensors = docs2input_tensors(docs, device)\n",
    "        predict_tensor = model(input_tensors)\n",
    "        predict_np = predict_tensor.cpu().numpy()\n",
    "        return predict_np[:, 1]\n",
    "\n",
    "def predict_docs(docs, batch_size):\n",
    "    return list(chain(*[predict_batch(docs[i: i+batch_size]) for i in tqdm(range(0, len(docs), batch_size))]))"
   ]
  },
  {
   "cell_type": "markdown",
   "metadata": {},
   "source": [
    "# 1. Data loading"
   ]
  },
  {
   "cell_type": "markdown",
   "metadata": {},
   "source": [
    "## 1.1 Pool"
   ]
  },
  {
   "cell_type": "code",
   "execution_count": null,
   "metadata": {},
   "outputs": [],
   "source": [
    "def collate_fn(list_data):\n",
    "    \"\"\"\n",
    "    shape == (batch_size, col1, col2, ...)\n",
    "    \"\"\"\n",
    "    data = zip(*list_data)\n",
    "    data = [np.stack(col, axis=0) for col in data]\n",
    "    data = [torch.from_numpy(col) for col in data]\n",
    "    return data\n",
    "voc = Voc.load('/source/main/vocab/output/voc.pkl')\n",
    "MAX_LENGTH = 100\n",
    "BATCH_SIZE = 256\n",
    "EXP_ID = '25a'"
   ]
  },
  {
   "cell_type": "code",
   "execution_count": null,
   "metadata": {},
   "outputs": [],
   "source": []
  },
  {
   "cell_type": "code",
   "execution_count": null,
   "metadata": {},
   "outputs": [],
   "source": [
    "# df_neg = pd.read_csv('/source/main/data_for_train/output/huge_pool/wiki.csv', nrows=1e6, usecols=['target'])\n",
    "# df_neg.rename(columns={'target': 'mention'}, inplace=True)\n",
    "# df_neg.dropna(inplace=True, subset=['mention'])\n",
    "# df_neg.drop_duplicates(inplace=True, subset=['mention'])\n",
    "# df_neg = df_neg.iloc[:794323, ]"
   ]
  },
  {
   "cell_type": "code",
   "execution_count": null,
   "metadata": {},
   "outputs": [],
   "source": [
    "# print(df_neg.shape)\n",
    "# neg = IndexDataset(voc, list(df_neg['mention']), equal_length=MAX_LENGTH)\n",
    "# neg = PoolDocs(neg)"
   ]
  },
  {
   "cell_type": "code",
   "execution_count": null,
   "metadata": {},
   "outputs": [],
   "source": [
    "df_pool = pd.read_csv('/source/main/data_for_train/output/train/pool.csv', nrows=1e6)\n",
    "df_pool.dropna(inplace=True, subset=['mention'])\n",
    "df_pool.drop_duplicates(inplace=True, subset=['mention'])\n",
    "df_pool = df_pool.iloc[:500000, :]"
   ]
  },
  {
   "cell_type": "code",
   "execution_count": null,
   "metadata": {},
   "outputs": [],
   "source": [
    "print(df_pool.shape)\n",
    "pool = IndexDataset(voc, list(df_pool['mention']), equal_length=MAX_LENGTH)\n",
    "pool = PoolDocs(pool)"
   ]
  },
  {
   "cell_type": "code",
   "execution_count": null,
   "metadata": {},
   "outputs": [],
   "source": [
    "len(pool)"
   ]
  },
  {
   "cell_type": "markdown",
   "metadata": {},
   "source": [
    "## 1.2 Positive data"
   ]
  },
  {
   "cell_type": "code",
   "execution_count": null,
   "metadata": {},
   "outputs": [],
   "source": [
    "df_pos = pd.read_csv('/source/main/data_for_train/output/train/positive_class_1.csv')\n",
    "df_pos.dropna(inplace=True, subset=['mention'])\n",
    "df_pos.drop_duplicates(inplace=True, subset=['mention'])\n",
    "\n",
    "print(df_pos.shape)\n",
    "pos = IndexDataset(voc, list(df_pos['mention']), equal_length=MAX_LENGTH)\n",
    "pos = PositiveDataset(pos)"
   ]
  },
  {
   "cell_type": "code",
   "execution_count": null,
   "metadata": {},
   "outputs": [],
   "source": [
    "data_loader = DataLoader(dataset=pos+pool, batch_size=BATCH_SIZE, shuffle=True, num_workers=0, collate_fn=collate_fn)"
   ]
  },
  {
   "cell_type": "code",
   "execution_count": null,
   "metadata": {},
   "outputs": [],
   "source": [
    "data = next(iter(data_loader))"
   ]
  },
  {
   "cell_type": "code",
   "execution_count": null,
   "metadata": {},
   "outputs": [],
   "source": [
    "voc.idx2docs(data[0].cpu().numpy()[:3, :])"
   ]
  },
  {
   "cell_type": "code",
   "execution_count": null,
   "metadata": {},
   "outputs": [],
   "source": [
    "core_model = SiameseModelCore(voc.get_embedding_weights())\n",
    "model = WrapSiameseModelCore(core_model)"
   ]
  },
  {
   "cell_type": "code",
   "execution_count": null,
   "metadata": {},
   "outputs": [],
   "source": [
    "model.train()\n",
    "device = torch.device(\"cuda\" if torch.cuda.is_available() else \"cpu\")\n",
    "model = model.to(device)"
   ]
  },
  {
   "cell_type": "code",
   "execution_count": null,
   "metadata": {},
   "outputs": [],
   "source": [
    "pytorch_utils.count_parameters(model)"
   ]
  },
  {
   "cell_type": "code",
   "execution_count": null,
   "metadata": {},
   "outputs": [],
   "source": [
    "def train_step(inputs):\n",
    "    model.train()\n",
    "    step_loss = model.train_batch(inputs[0], inputs[1])\n",
    "    return step_loss"
   ]
  },
  {
   "cell_type": "code",
   "execution_count": null,
   "metadata": {},
   "outputs": [],
   "source": [
    "len(data_loader)"
   ]
  },
  {
   "cell_type": "code",
   "execution_count": null,
   "metadata": {},
   "outputs": [],
   "source": [
    "# model.eval()\n",
    "# # import pdb; pdb.set_trace()\n",
    "# predict_docs(['giá bao tiền', 'ee', 'Giảm giá sốc'], batch_size=2)"
   ]
  },
  {
   "cell_type": "markdown",
   "metadata": {},
   "source": [
    "# 2. Training"
   ]
  },
  {
   "cell_type": "markdown",
   "metadata": {},
   "source": [
    "## 2.1 Epoch 1"
   ]
  },
  {
   "cell_type": "code",
   "execution_count": null,
   "metadata": {},
   "outputs": [],
   "source": [
    "# model.build_stuff_for_training(device)\n",
    "for epoch_idx in range(1):\n",
    "    start = time.time()\n",
    "    for idx, inputs in tqdm(enumerate(data_loader)):\n",
    "        inputs = [i.to(device) for i in inputs]\n",
    "        l = train_step(inputs)\n",
    "        if idx % 10 == 0:\n",
    "            logging.info('\\t Step: %s Loss: %.5f Pos/Neg: %s/%s', idx, l, inputs[1].sum().cpu().item(), \n",
    "                         inputs[1].size(0))\n",
    "    duration = time.time() - start\n",
    "    logging.info('Epoch %s took %.2f s', epoch_idx, duration)"
   ]
  },
  {
   "cell_type": "code",
   "execution_count": null,
   "metadata": {},
   "outputs": [],
   "source": [
    "# for epoch_idx in range(10):\n",
    "#     start = time.time()\n",
    "#     model.train()\n",
    "#     for idx, inputs in tqdm(enumerate(data_loader)):    \n",
    "#         inputs = [i.to(device) for i in inputs]\n",
    "#         l = train_step(inputs)\n",
    "#     duration = time.time() - start\n",
    "#     logging.info('Epoch %s took %.2f s', epoch_idx, duration)\n",
    "    \n",
    "#     model.eval()    \n",
    "#     df_pos['pred'] = predict_docs(df_pos['mention'], batch_size=256)\n",
    "#     df_pool['pred'] = predict_docs(df_pool['mention'], batch_size=256)\n",
    "    \n",
    "#     logging.info('Recall: %s/%s=%.4f', (df_pos['pred']>=0.5).sum(), df_pos.shape[0], \n",
    "#                  (df_pos['pred']>=0.5).sum()/df_pos.shape[0])\n",
    "#     logging.info('Ratio on pool: %s/%s=%.4f', (df_pool['pred']>=0.5).sum(), df_pool.shape[0], \n",
    "#                  (df_pool['pred']>=0.5).sum()/df_pool.shape[0])\n",
    "    "
   ]
  },
  {
   "cell_type": "code",
   "execution_count": null,
   "metadata": {},
   "outputs": [],
   "source": [
    "# fig = plt.figure(figsize=(10, 5))\n",
    "\n",
    "# ax = fig.add_subplot(1, 2, 1)\n",
    "# df_pos.loc[:500, 'pred'].hist(bins=100, ax=ax)\n",
    "# ax.set_title('Spy')\n",
    "# ax.set_xlim(0, 0.9)\n",
    "# ax.set_ylim(0, 100)\n",
    "\n",
    "# ax = fig.add_subplot(1, 2, 2)\n",
    "# df_pos.loc[500:, 'pred'].hist(bins=100, ax=ax)\n",
    "# ax.set_title('Positive')\n",
    "# ax.set_xlim(0, 0.9)\n",
    "# ax.set_ylim(0, 100)\n",
    "\n",
    "# plt.show()\n"
   ]
  },
  {
   "cell_type": "code",
   "execution_count": null,
   "metadata": {},
   "outputs": [],
   "source": [
    "# df_pool_social = pd.read_csv('/source/main/data_for_train/output/train/pool.csv')\n",
    "# df_pool_social.rename(columns={'target': 'mention'}, inplace=True)\n",
    "# df_pool_social.dropna(inplace=True, subset=['mention'])\n",
    "# df_pool_social.drop_duplicates(inplace=True, subset=['mention'])\n",
    "# df_pool_social = df_pool_social.iloc[:794323, ]"
   ]
  },
  {
   "cell_type": "code",
   "execution_count": null,
   "metadata": {},
   "outputs": [],
   "source": []
  },
  {
   "cell_type": "code",
   "execution_count": null,
   "metadata": {},
   "outputs": [],
   "source": [
    "training_checker = TrainingChecker(model, root_dir='/source/main/train/output/saved_models/%s/' % EXP_ID,\n",
    "                                   init_score=-10000)\n",
    "training_checker.save_model()"
   ]
  },
  {
   "cell_type": "markdown",
   "metadata": {},
   "source": [
    "# Analyse"
   ]
  },
  {
   "cell_type": "code",
   "execution_count": null,
   "metadata": {},
   "outputs": [],
   "source": [
    "model.eval()"
   ]
  },
  {
   "cell_type": "code",
   "execution_count": null,
   "metadata": {},
   "outputs": [],
   "source": [
    "df_pos['mention'].sample(3)"
   ]
  },
  {
   "cell_type": "code",
   "execution_count": null,
   "metadata": {},
   "outputs": [],
   "source": []
  },
  {
   "cell_type": "code",
   "execution_count": null,
   "metadata": {},
   "outputs": [],
   "source": [
    "model.eval()\n",
    "predict_docs(['giá bao tiền', 'ee', 'Giảm giá sốc'], batch_size=1)"
   ]
  },
  {
   "cell_type": "code",
   "execution_count": null,
   "metadata": {},
   "outputs": [],
   "source": [
    "import ast\n",
    "\n",
    "import pandas as pd\n",
    "pd.set_option('display.max_colwidth', -1)\n",
    "from sklearn import metrics\n",
    "\n",
    "from data_for_train.index_dataset import IndexDataset\n",
    "from data_for_train.positive_dataset import PositiveDataset\n",
    "from data_for_train import pool\n",
    "from naruto_skills.new_voc import Voc"
   ]
  },
  {
   "cell_type": "markdown",
   "metadata": {},
   "source": [
    "## Recall"
   ]
  },
  {
   "cell_type": "markdown",
   "metadata": {},
   "source": [
    "### Eval"
   ]
  },
  {
   "cell_type": "code",
   "execution_count": null,
   "metadata": {},
   "outputs": [],
   "source": [
    "df_pos_eval = pd.read_csv('/source/main/data_for_train/output/eval/positive_class_1.csv')\n",
    "df_pos_eval = df_pos_eval.drop_duplicates(subset=['mention'])"
   ]
  },
  {
   "cell_type": "code",
   "execution_count": null,
   "metadata": {},
   "outputs": [],
   "source": [
    "df_pos_eval['pred'] = predict_docs(list(df_pos_eval['mention']), batch_size=256)\n",
    "# print(sum(df_pos_eval['pred']>=0.5)/df_pos_eval.shape[0])\n",
    "# print(df_pos_eval.shape)"
   ]
  },
  {
   "cell_type": "code",
   "execution_count": null,
   "metadata": {},
   "outputs": [],
   "source": [
    "(df_pos_eval['pred']>=0.5).sum()/df_pos_eval.shape[0]"
   ]
  },
  {
   "cell_type": "markdown",
   "metadata": {},
   "source": [
    "### Test"
   ]
  },
  {
   "cell_type": "code",
   "execution_count": null,
   "metadata": {},
   "outputs": [],
   "source": [
    "df_pos_test = pd.read_csv('/source/main/data_for_train/output/test/positive_class_1.csv')\n",
    "df_pos_test = df_pos_test.drop_duplicates(subset=['mention'])"
   ]
  },
  {
   "cell_type": "code",
   "execution_count": null,
   "metadata": {},
   "outputs": [],
   "source": [
    "df_pos_test['pred'] = predict_docs(list(df_pos_test['mention']), batch_size=256)\n",
    "print(sum(df_pos_test['pred']>=0.5)/df_pos_test.shape[0])\n",
    "print(df_pos_test.shape)"
   ]
  },
  {
   "cell_type": "markdown",
   "metadata": {},
   "source": [
    "## Score: pr/P(y=1)"
   ]
  },
  {
   "cell_type": "markdown",
   "metadata": {},
   "source": [
    "### Eval"
   ]
  },
  {
   "cell_type": "code",
   "execution_count": null,
   "metadata": {},
   "outputs": [],
   "source": [
    "df_pool_eval = pd.read_csv('/source/main/data_for_train/output/eval/pool.csv')"
   ]
  },
  {
   "cell_type": "code",
   "execution_count": null,
   "metadata": {},
   "outputs": [],
   "source": [
    "df_pool_eval['pred'] = predict_docs(list(df_pool_eval['mention']), batch_size=256)\n",
    "\n",
    "# print(sum(df_pool_eval['pred']>=0.5)/df_pool_eval.shape[0])\n",
    "# print(df_pool_eval.shape)"
   ]
  },
  {
   "cell_type": "code",
   "execution_count": null,
   "metadata": {},
   "outputs": [],
   "source": [
    "sum(df_pool_eval['pred']>=0.5)/df_pool_eval.shape[0]"
   ]
  },
  {
   "cell_type": "code",
   "execution_count": null,
   "metadata": {},
   "outputs": [],
   "source": [
    "df_pool_eval[df_pool_eval['pred']>=0.5].sample(20)"
   ]
  },
  {
   "cell_type": "markdown",
   "metadata": {},
   "source": [
    "### Test"
   ]
  },
  {
   "cell_type": "code",
   "execution_count": null,
   "metadata": {},
   "outputs": [],
   "source": [
    "df_pool_test = pd.read_csv('/source/main/data_for_train/output/test/pool.csv')"
   ]
  },
  {
   "cell_type": "code",
   "execution_count": null,
   "metadata": {},
   "outputs": [],
   "source": [
    "df_pool_test['pred'] = predict_docs(list(df_pool_test['mention']), batch_size=256)"
   ]
  },
  {
   "cell_type": "code",
   "execution_count": null,
   "metadata": {},
   "outputs": [],
   "source": [
    "print(sum(df_pool_test['pred']>=0.5)/df_pool_test.shape[0])\n",
    "print(df_pool_test.shape)"
   ]
  },
  {
   "cell_type": "code",
   "execution_count": null,
   "metadata": {},
   "outputs": [],
   "source": [
    "df_pool_eval[df_pool_eval['pred']>=0.5].sample(100).to_csv('%s.csv' % EXP_ID, index=None)"
   ]
  },
  {
   "cell_type": "code",
   "execution_count": null,
   "metadata": {},
   "outputs": [],
   "source": []
  },
  {
   "cell_type": "code",
   "execution_count": null,
   "metadata": {},
   "outputs": [],
   "source": []
  }
 ],
 "metadata": {
  "kernelspec": {
   "display_name": "Python 3",
   "language": "python",
   "name": "python3"
  },
  "language_info": {
   "codemirror_mode": {
    "name": "ipython",
    "version": 3
   },
   "file_extension": ".py",
   "mimetype": "text/x-python",
   "name": "python",
   "nbconvert_exporter": "python",
   "pygments_lexer": "ipython3",
   "version": "3.6.8"
  }
 },
 "nbformat": 4,
 "nbformat_minor": 2
}
