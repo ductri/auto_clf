{
 "cells": [
  {
   "cell_type": "code",
   "execution_count": 1,
   "metadata": {},
   "outputs": [],
   "source": [
    "import sys\n",
    "sys.path.append('/source/main')"
   ]
  },
  {
   "cell_type": "code",
   "execution_count": 2,
   "metadata": {},
   "outputs": [],
   "source": [
    "import os\n",
    "import logging\n",
    "from datetime import datetime\n",
    "import time\n",
    "from itertools import chain\n",
    "\n",
    "import pandas as pd\n",
    "import numpy as np\n",
    "import torch\n",
    "from tqdm import tqdm\n",
    "from naruto_skills.new_voc import Voc\n",
    "from torch.utils.data import DataLoader, Subset, Dataset\n",
    "import matplotlib.pyplot as plt\n",
    "\n",
    "from model_def.siamese_core import SiameseModelCore\n",
    "from model_def.wrap_core_model import WrapSiameseModelCore\n",
    "from data_for_train.pool import PoolDocs\n",
    "from utils import pytorch_utils\n",
    "from preprocess import preprocessor\n",
    "from data_for_train.index_dataset import IndexDataset\n",
    "from data_for_train.positive_dataset import PositiveDataset\n",
    "from naruto_skills.training_checker import TrainingChecker"
   ]
  },
  {
   "cell_type": "code",
   "execution_count": 3,
   "metadata": {},
   "outputs": [],
   "source": [
    "logging.basicConfig(level=logging.INFO)\n",
    "pd.set_option('display.max_colwidth', -1)"
   ]
  },
  {
   "cell_type": "code",
   "execution_count": 7,
   "metadata": {},
   "outputs": [],
   "source": [
    "def docs2input_tensors(docs, device):\n",
    "    preprocessed_docs = [preprocessor.infer_preprocess(doc) for doc in docs]\n",
    "#     max_len = max([len(item.split()) for item in preprocessed_docs])\n",
    "    max_len = 100\n",
    "    preprocessed_docs = [' '.join(doc.split()[:max_len]) for doc in preprocessed_docs]\n",
    "    word_input = voc.docs2idx(preprocessed_docs, equal_length=max_len)\n",
    "    inputs = np.array(word_input)\n",
    "    input_tensors = torch.from_numpy(inputs)\n",
    "    input_tensors = input_tensors.to(device)\n",
    "    return input_tensors\n",
    "\n",
    "def predict_batch(docs):\n",
    "    with torch.no_grad():\n",
    "        input_tensors = docs2input_tensors(docs, device)\n",
    "        predict_tensor = model(input_tensors)\n",
    "        predict_np = predict_tensor.cpu().numpy()\n",
    "        return predict_np[:, 1]\n",
    "\n",
    "def predict_docs(docs, batch_size):\n",
    "    return list(chain(*[predict_batch(docs[i: i+batch_size]) for i in tqdm(range(0, len(docs), batch_size))]))"
   ]
  },
  {
   "cell_type": "markdown",
   "metadata": {},
   "source": [
    "# 1. Data loading"
   ]
  },
  {
   "cell_type": "markdown",
   "metadata": {},
   "source": [
    "## 1.1 Pool"
   ]
  },
  {
   "cell_type": "code",
   "execution_count": 8,
   "metadata": {},
   "outputs": [],
   "source": [
    "def collate_fn(list_data):\n",
    "    \"\"\"\n",
    "    shape == (batch_size, col1, col2, ...)\n",
    "    \"\"\"\n",
    "    data = zip(*list_data)\n",
    "    data = [np.stack(col, axis=0) for col in data]\n",
    "    data = [torch.from_numpy(col) for col in data]\n",
    "    return data\n",
    "voc = Voc.load('/source/main/vocab/output/voc.pkl')\n",
    "MAX_LENGTH = 100\n",
    "BATCH_SIZE = 256\n",
    "EXP_ID = '13'"
   ]
  },
  {
   "cell_type": "code",
   "execution_count": null,
   "metadata": {},
   "outputs": [],
   "source": []
  },
  {
   "cell_type": "code",
   "execution_count": 9,
   "metadata": {},
   "outputs": [],
   "source": [
    "# df_neg = pd.read_csv('/source/main/data_for_train/output/huge_pool/wiki.csv', nrows=1e6, usecols=['target'])\n",
    "# df_neg.rename(columns={'target': 'mention'}, inplace=True)\n",
    "# df_neg.dropna(inplace=True, subset=['mention'])\n",
    "# df_neg.drop_duplicates(inplace=True, subset=['mention'])\n",
    "# df_neg = df_neg.iloc[:794323, ]"
   ]
  },
  {
   "cell_type": "code",
   "execution_count": 10,
   "metadata": {},
   "outputs": [],
   "source": [
    "# print(df_neg.shape)\n",
    "# neg = IndexDataset(voc, list(df_neg['mention']), equal_length=MAX_LENGTH)\n",
    "# neg = PoolDocs(neg)"
   ]
  },
  {
   "cell_type": "code",
   "execution_count": 11,
   "metadata": {},
   "outputs": [],
   "source": [
    "df_pool = pd.read_csv('/source/main/data_for_train/output/train/pool.csv', nrows=1e6)\n",
    "df_pool.dropna(inplace=True, subset=['mention'])\n",
    "df_pool.drop_duplicates(inplace=True, subset=['mention'])\n",
    "df_pool = df_pool.iloc[:794323, :]"
   ]
  },
  {
   "cell_type": "code",
   "execution_count": 12,
   "metadata": {},
   "outputs": [
    {
     "name": "stdout",
     "output_type": "stream",
     "text": [
      "(794323, 2)\n"
     ]
    },
    {
     "name": "stderr",
     "output_type": "stream",
     "text": [
      "INFO:root:Total: 794323\n"
     ]
    }
   ],
   "source": [
    "print(df_pool.shape)\n",
    "pool = IndexDataset(voc, list(df_pool['mention']), equal_length=MAX_LENGTH)\n",
    "pool = PoolDocs(pool)"
   ]
  },
  {
   "cell_type": "code",
   "execution_count": 13,
   "metadata": {},
   "outputs": [
    {
     "data": {
      "text/plain": [
       "794323"
      ]
     },
     "execution_count": 13,
     "metadata": {},
     "output_type": "execute_result"
    }
   ],
   "source": [
    "len(pool)"
   ]
  },
  {
   "cell_type": "markdown",
   "metadata": {},
   "source": [
    "## 1.2 Positive data"
   ]
  },
  {
   "cell_type": "code",
   "execution_count": 14,
   "metadata": {},
   "outputs": [
    {
     "name": "stdout",
     "output_type": "stream",
     "text": [
      "(2494, 3)\n"
     ]
    }
   ],
   "source": [
    "df_pos = pd.read_csv('/source/main/data_for_train/output/train/positive_class_1.csv')\n",
    "df_pos.dropna(inplace=True, subset=['mention'])\n",
    "df_pos.drop_duplicates(inplace=True, subset=['mention'])\n",
    "\n",
    "print(df_pos.shape)\n",
    "pos = IndexDataset(voc, list(df_pos['mention']), equal_length=MAX_LENGTH)\n",
    "pos = PositiveDataset(pos)"
   ]
  },
  {
   "cell_type": "code",
   "execution_count": null,
   "metadata": {},
   "outputs": [],
   "source": [
    "pos[0][:10]"
   ]
  },
  {
   "cell_type": "code",
   "execution_count": null,
   "metadata": {},
   "outputs": [],
   "source": [
    "# pool_data, _ = zip(*pool)\n",
    "# pool_data = [str(item) for item in pool_data]\n",
    "# pos_data, _ = zip(*pos)\n",
    "# pos_data = [str(item) for item in pos_data]\n",
    "# len(set(pool_data).intersection(set(pos_data)))"
   ]
  },
  {
   "cell_type": "code",
   "execution_count": null,
   "metadata": {},
   "outputs": [],
   "source": [
    "# df_anchor = pd.read_csv('/source/main/data_for_train/output/train/positive_class_1.csv')\n",
    "# df_anchor.dropna(inplace=True, subset=['mention'])\n",
    "# df_anchor.drop_duplicates(inplace=True, subset=['mention'])\n",
    "# df_anchor = df_anchor.sample(df_anchor.shape[0], random_state=43)\n",
    "# print(df_anchor.shape)\n",
    "# anchor = IndexDataset(voc, list(df_anchor['mention']), equal_length=MAX_LENGTH)\n",
    "# # anchor = PositiveDataset(anchor)"
   ]
  },
  {
   "cell_type": "code",
   "execution_count": null,
   "metadata": {},
   "outputs": [],
   "source": []
  },
  {
   "cell_type": "code",
   "execution_count": 15,
   "metadata": {},
   "outputs": [],
   "source": [
    "data_loader = DataLoader(dataset=pos+pool, batch_size=BATCH_SIZE, shuffle=True, num_workers=0, collate_fn=collate_fn)"
   ]
  },
  {
   "cell_type": "code",
   "execution_count": 16,
   "metadata": {},
   "outputs": [],
   "source": [
    "data = next(iter(data_loader))"
   ]
  },
  {
   "cell_type": "code",
   "execution_count": 17,
   "metadata": {},
   "outputs": [
    {
     "data": {
      "text/plain": [
       "['cháu tiếp __o__',\n",
       " 'ôi xời may mà xem lại nha cm , hai cái đều là thật trog bịch bỉm có cái nào __o__ hệt cái nào đâu , xem thấy bài vội dậy lục xem luôn',\n",
       " 'ghê thiệt tiết kiệm và giản dị là sang , còn đi mua đồ hiệu là kém sang và sống kì : ) ) ) đúng là bạn rmit kia k đúng thật , nhưng cá nhân mình thấy có lẽ vì khác biệt lối sống nên các bạn bị bạn ấy cách biệt thôi . mình chọn lối sống kém sang của bạn kia đó , sống sướng hơn lối sống sang của bạn nhiều bạn ạ']"
      ]
     },
     "execution_count": 17,
     "metadata": {},
     "output_type": "execute_result"
    }
   ],
   "source": [
    "voc.idx2docs(data[0].cpu().numpy()[:3, :])"
   ]
  },
  {
   "cell_type": "code",
   "execution_count": 18,
   "metadata": {},
   "outputs": [],
   "source": [
    "core_model = SiameseModelCore(voc.get_embedding_weights())\n",
    "model = WrapSiameseModelCore(core_model)"
   ]
  },
  {
   "cell_type": "code",
   "execution_count": 19,
   "metadata": {},
   "outputs": [],
   "source": [
    "model.train()\n",
    "device = torch.device(\"cuda\" if torch.cuda.is_available() else \"cpu\")\n",
    "model = model.to(device)"
   ]
  },
  {
   "cell_type": "code",
   "execution_count": 20,
   "metadata": {},
   "outputs": [
    {
     "data": {
      "text/plain": [
       "13886932"
      ]
     },
     "execution_count": 20,
     "metadata": {},
     "output_type": "execute_result"
    }
   ],
   "source": [
    "pytorch_utils.count_parameters(model)"
   ]
  },
  {
   "cell_type": "code",
   "execution_count": 21,
   "metadata": {},
   "outputs": [],
   "source": [
    "def train_step(inputs):\n",
    "    model.train()\n",
    "    step_loss = model.train_batch(inputs[0], inputs[1])\n",
    "    return step_loss"
   ]
  },
  {
   "cell_type": "code",
   "execution_count": 22,
   "metadata": {},
   "outputs": [
    {
     "data": {
      "text/plain": [
       "3113"
      ]
     },
     "execution_count": 22,
     "metadata": {},
     "output_type": "execute_result"
    }
   ],
   "source": [
    "len(data_loader)"
   ]
  },
  {
   "cell_type": "code",
   "execution_count": 23,
   "metadata": {},
   "outputs": [],
   "source": [
    "# model.eval()\n",
    "# # import pdb; pdb.set_trace()\n",
    "# predict_docs(['giá bao tiền', 'ee', 'Giảm giá sốc'], batch_size=2)"
   ]
  },
  {
   "cell_type": "code",
   "execution_count": null,
   "metadata": {},
   "outputs": [],
   "source": [
    "anchor = docs2input_tensors(['giá bao tiền'], device)\n",
    "pos = docs2input_tensors(['bao nhiêu thế ?'], device)\n",
    "neg = docs2input_tensors(['hôm nay tôi đi học'], device)"
   ]
  },
  {
   "cell_type": "code",
   "execution_count": null,
   "metadata": {},
   "outputs": [],
   "source": [
    "print('dis_1', model.get_distance(anchor, pos))\n",
    "print('dis_2', model.get_distance(anchor, neg))"
   ]
  },
  {
   "cell_type": "markdown",
   "metadata": {},
   "source": [
    "# 2. Training"
   ]
  },
  {
   "cell_type": "markdown",
   "metadata": {},
   "source": [
    "## 2.1 Epoch 1"
   ]
  },
  {
   "cell_type": "code",
   "execution_count": 24,
   "metadata": {},
   "outputs": [
    {
     "name": "stderr",
     "output_type": "stream",
     "text": [
      "0it [00:00, ?it/s]INFO:root:\t Step: 0 Loss: 0.56506 Pos/Neg: 1/256\n",
      "100it [00:24,  4.08it/s]INFO:root:\t Step: 100 Loss: 0.00714 Pos/Neg: 1/256\n",
      "200it [00:49,  4.06it/s]INFO:root:\t Step: 200 Loss: 0.02240 Pos/Neg: 2/256\n",
      "300it [01:13,  4.04it/s]INFO:root:\t Step: 300 Loss: 0.01137 Pos/Neg: 1/256\n",
      "400it [01:38,  4.04it/s]INFO:root:\t Step: 400 Loss: 0.00009 Pos/Neg: 0/256\n",
      "500it [02:03,  4.05it/s]INFO:root:\t Step: 500 Loss: 0.01345 Pos/Neg: 1/256\n",
      "600it [02:28,  4.06it/s]INFO:root:\t Step: 600 Loss: 0.00848 Pos/Neg: 1/256\n",
      "700it [02:52,  4.06it/s]INFO:root:\t Step: 700 Loss: 0.00885 Pos/Neg: 1/256\n",
      "800it [03:17,  4.06it/s]INFO:root:\t Step: 800 Loss: 0.00533 Pos/Neg: 0/256\n",
      "900it [03:42,  4.04it/s]INFO:root:\t Step: 900 Loss: 0.00669 Pos/Neg: 0/256\n",
      "1000it [04:06,  4.04it/s]INFO:root:\t Step: 1000 Loss: 0.00873 Pos/Neg: 1/256\n",
      "1100it [04:31,  4.04it/s]INFO:root:\t Step: 1100 Loss: 0.00240 Pos/Neg: 1/256\n",
      "1200it [04:56,  4.06it/s]INFO:root:\t Step: 1200 Loss: 0.00136 Pos/Neg: 0/256\n",
      "1300it [05:21,  4.05it/s]INFO:root:\t Step: 1300 Loss: 0.00200 Pos/Neg: 1/256\n",
      "1400it [05:45,  4.04it/s]INFO:root:\t Step: 1400 Loss: 0.00064 Pos/Neg: 0/256\n",
      "1500it [06:10,  4.05it/s]INFO:root:\t Step: 1500 Loss: 0.00236 Pos/Neg: 1/256\n",
      "1600it [06:35,  4.03it/s]INFO:root:\t Step: 1600 Loss: 0.00033 Pos/Neg: 0/256\n",
      "1700it [06:59,  4.03it/s]INFO:root:\t Step: 1700 Loss: 0.00308 Pos/Neg: 0/256\n",
      "1800it [07:24,  4.04it/s]INFO:root:\t Step: 1800 Loss: 0.00471 Pos/Neg: 0/256\n",
      "1900it [07:49,  4.04it/s]INFO:root:\t Step: 1900 Loss: 0.01458 Pos/Neg: 3/256\n",
      "2000it [08:14,  4.02it/s]INFO:root:\t Step: 2000 Loss: 0.00186 Pos/Neg: 1/256\n",
      "2100it [08:38,  4.04it/s]INFO:root:\t Step: 2100 Loss: 0.00771 Pos/Neg: 1/256\n",
      "2200it [09:03,  4.04it/s]INFO:root:\t Step: 2200 Loss: 0.00207 Pos/Neg: 0/256\n",
      "2300it [09:28,  4.05it/s]INFO:root:\t Step: 2300 Loss: 0.02588 Pos/Neg: 1/256\n",
      "2400it [09:53,  4.04it/s]INFO:root:\t Step: 2400 Loss: 0.00029 Pos/Neg: 0/256\n",
      "2500it [10:17,  4.04it/s]INFO:root:\t Step: 2500 Loss: 0.01890 Pos/Neg: 3/256\n",
      "2600it [10:42,  4.04it/s]INFO:root:\t Step: 2600 Loss: 0.01238 Pos/Neg: 2/256\n",
      "2700it [11:07,  4.03it/s]INFO:root:\t Step: 2700 Loss: 0.01890 Pos/Neg: 2/256\n",
      "2800it [11:32,  4.03it/s]INFO:root:\t Step: 2800 Loss: 0.00992 Pos/Neg: 0/256\n",
      "2900it [11:57,  4.05it/s]INFO:root:\t Step: 2900 Loss: 0.01164 Pos/Neg: 3/256\n",
      "3000it [12:22,  4.05it/s]INFO:root:\t Step: 3000 Loss: 0.00249 Pos/Neg: 0/256\n",
      "3100it [12:46,  4.01it/s]INFO:root:\t Step: 3100 Loss: 0.00490 Pos/Neg: 1/256\n",
      "3113it [12:50,  4.39it/s]\n",
      "INFO:root:Epoch 0 took 770.13 s\n"
     ]
    }
   ],
   "source": [
    "# model.build_stuff_for_training(device)\n",
    "for epoch_idx in range(1):\n",
    "    start = time.time()\n",
    "    for idx, inputs in tqdm(enumerate(data_loader)):\n",
    "        inputs = [i.to(device) for i in inputs]\n",
    "        l = train_step(inputs)\n",
    "        if idx % 100 == 0:\n",
    "            logging.info('\\t Step: %s Loss: %.5f Pos/Neg: %s/%s', idx, l, inputs[1].sum().cpu().item(), \n",
    "                         inputs[1].size(0))\n",
    "    duration = time.time() - start\n",
    "    logging.info('Epoch %s took %.2f s', epoch_idx, duration)"
   ]
  },
  {
   "cell_type": "code",
   "execution_count": null,
   "metadata": {},
   "outputs": [],
   "source": [
    "# for epoch_idx in range(10):\n",
    "#     start = time.time()\n",
    "#     model.train()\n",
    "#     for idx, inputs in tqdm(enumerate(data_loader)):    \n",
    "#         inputs = [i.to(device) for i in inputs]\n",
    "#         l = train_step(inputs)\n",
    "#     duration = time.time() - start\n",
    "#     logging.info('Epoch %s took %.2f s', epoch_idx, duration)\n",
    "    \n",
    "#     model.eval()    \n",
    "#     df_pos['pred'] = predict_docs(df_pos['mention'], batch_size=256)\n",
    "#     df_pool['pred'] = predict_docs(df_pool['mention'], batch_size=256)\n",
    "    \n",
    "#     logging.info('Recall: %s/%s=%.4f', (df_pos['pred']>=0.5).sum(), df_pos.shape[0], \n",
    "#                  (df_pos['pred']>=0.5).sum()/df_pos.shape[0])\n",
    "#     logging.info('Ratio on pool: %s/%s=%.4f', (df_pool['pred']>=0.5).sum(), df_pool.shape[0], \n",
    "#                  (df_pool['pred']>=0.5).sum()/df_pool.shape[0])\n",
    "    "
   ]
  },
  {
   "cell_type": "code",
   "execution_count": null,
   "metadata": {},
   "outputs": [],
   "source": [
    "# fig = plt.figure(figsize=(10, 5))\n",
    "\n",
    "# ax = fig.add_subplot(1, 2, 1)\n",
    "# df_pos.loc[:500, 'pred'].hist(bins=100, ax=ax)\n",
    "# ax.set_title('Spy')\n",
    "# ax.set_xlim(0, 0.9)\n",
    "# ax.set_ylim(0, 100)\n",
    "\n",
    "# ax = fig.add_subplot(1, 2, 2)\n",
    "# df_pos.loc[500:, 'pred'].hist(bins=100, ax=ax)\n",
    "# ax.set_title('Positive')\n",
    "# ax.set_xlim(0, 0.9)\n",
    "# ax.set_ylim(0, 100)\n",
    "\n",
    "# plt.show()\n"
   ]
  },
  {
   "cell_type": "code",
   "execution_count": null,
   "metadata": {},
   "outputs": [],
   "source": [
    "# df_pool_social = pd.read_csv('/source/main/data_for_train/output/train/pool.csv')\n",
    "# df_pool_social.rename(columns={'target': 'mention'}, inplace=True)\n",
    "# df_pool_social.dropna(inplace=True, subset=['mention'])\n",
    "# df_pool_social.drop_duplicates(inplace=True, subset=['mention'])\n",
    "# df_pool_social = df_pool_social.iloc[:794323, ]"
   ]
  },
  {
   "cell_type": "code",
   "execution_count": null,
   "metadata": {},
   "outputs": [],
   "source": []
  },
  {
   "cell_type": "code",
   "execution_count": 25,
   "metadata": {},
   "outputs": [],
   "source": [
    "EXP_ID='13b'"
   ]
  },
  {
   "cell_type": "code",
   "execution_count": 26,
   "metadata": {},
   "outputs": [
    {
     "name": "stderr",
     "output_type": "stream",
     "text": [
      "INFO:root:Model will be saved at /source/main/train/output/saved_models/13b/\n"
     ]
    },
    {
     "data": {
      "text/plain": [
       "'/source/main/train/output/saved_models/13b/None.pt'"
      ]
     },
     "execution_count": 26,
     "metadata": {},
     "output_type": "execute_result"
    }
   ],
   "source": [
    "training_checker = TrainingChecker(model, root_dir='/source/main/train/output/saved_models/%s/' % EXP_ID,\n",
    "                                   init_score=-10000)\n",
    "training_checker.save_model()"
   ]
  },
  {
   "cell_type": "markdown",
   "metadata": {},
   "source": [
    "# Analyse"
   ]
  },
  {
   "cell_type": "code",
   "execution_count": 27,
   "metadata": {},
   "outputs": [],
   "source": [
    "model.eval()"
   ]
  },
  {
   "cell_type": "code",
   "execution_count": null,
   "metadata": {},
   "outputs": [],
   "source": []
  },
  {
   "cell_type": "code",
   "execution_count": 28,
   "metadata": {},
   "outputs": [
    {
     "data": {
      "text/plain": [
       "2404    __d__ ink __d__k co gia bao nhieu vay shop       \n",
       "1812    có màn hình cong __d__ ” k ạh shop ? giá bnhiu ạh\n",
       "950     friso dah cho be tu __d__t nhju __d__hop ạ      \n",
       "Name: mention, dtype: object"
      ]
     },
     "execution_count": 28,
     "metadata": {},
     "output_type": "execute_result"
    }
   ],
   "source": [
    "df_pos['mention'].sample(3)"
   ]
  },
  {
   "cell_type": "code",
   "execution_count": null,
   "metadata": {},
   "outputs": [],
   "source": []
  },
  {
   "cell_type": "code",
   "execution_count": 30,
   "metadata": {},
   "outputs": [
    {
     "name": "stderr",
     "output_type": "stream",
     "text": [
      "100%|██████████| 3/3 [00:00<00:00, 111.80it/s]\n"
     ]
    },
    {
     "data": {
      "text/plain": [
       "[0.36913168, 4.776274e-05, 0.009863002]"
      ]
     },
     "execution_count": 30,
     "metadata": {},
     "output_type": "execute_result"
    }
   ],
   "source": [
    "model.eval()\n",
    "predict_docs(['giá bao tiền', 'ee', 'Giảm giá sốc'], batch_size=1)"
   ]
  },
  {
   "cell_type": "code",
   "execution_count": 31,
   "metadata": {},
   "outputs": [],
   "source": [
    "import ast\n",
    "\n",
    "import pandas as pd\n",
    "pd.set_option('display.max_colwidth', -1)\n",
    "from sklearn import metrics\n",
    "\n",
    "from data_for_train.index_dataset import IndexDataset\n",
    "from data_for_train.positive_dataset import PositiveDataset\n",
    "from data_for_train import pool\n",
    "from naruto_skills.new_voc import Voc"
   ]
  },
  {
   "cell_type": "markdown",
   "metadata": {},
   "source": [
    "## Recall"
   ]
  },
  {
   "cell_type": "markdown",
   "metadata": {},
   "source": [
    "### Eval"
   ]
  },
  {
   "cell_type": "code",
   "execution_count": 32,
   "metadata": {},
   "outputs": [],
   "source": [
    "df_pos_eval = pd.read_csv('/source/main/data_for_train/output/eval/positive_class_1.csv')\n",
    "df_pos_eval = df_pos_eval.drop_duplicates(subset=['mention'])"
   ]
  },
  {
   "cell_type": "code",
   "execution_count": 33,
   "metadata": {},
   "outputs": [
    {
     "name": "stderr",
     "output_type": "stream",
     "text": [
      "100%|██████████| 2/2 [00:00<00:00, 15.29it/s]\n"
     ]
    }
   ],
   "source": [
    "df_pos_eval['pred'] = predict_docs(list(df_pos_eval['mention']), batch_size=256)\n",
    "# print(sum(df_pos_eval['pred']>=0.5)/df_pos_eval.shape[0])\n",
    "# print(df_pos_eval.shape)"
   ]
  },
  {
   "cell_type": "code",
   "execution_count": 34,
   "metadata": {},
   "outputs": [
    {
     "data": {
      "text/plain": [
       "0.47335423197492166"
      ]
     },
     "execution_count": 34,
     "metadata": {},
     "output_type": "execute_result"
    }
   ],
   "source": [
    "(df_pos_eval['pred']>=0.5).sum()/df_pos_eval.shape[0]"
   ]
  },
  {
   "cell_type": "markdown",
   "metadata": {},
   "source": [
    "### Test"
   ]
  },
  {
   "cell_type": "code",
   "execution_count": 36,
   "metadata": {},
   "outputs": [],
   "source": [
    "df_pos_test = pd.read_csv('/source/main/data_for_train/output/test/positive_class_1.csv')\n",
    "df_pos_test = df_pos_test.drop_duplicates(subset=['mention'])"
   ]
  },
  {
   "cell_type": "code",
   "execution_count": 37,
   "metadata": {},
   "outputs": [
    {
     "name": "stderr",
     "output_type": "stream",
     "text": [
      "100%|██████████| 2/2 [00:00<00:00,  9.38it/s]"
     ]
    },
    {
     "name": "stdout",
     "output_type": "stream",
     "text": [
      "0.4454828660436137\n",
      "(321, 4)\n"
     ]
    },
    {
     "name": "stderr",
     "output_type": "stream",
     "text": [
      "\n"
     ]
    }
   ],
   "source": [
    "df_pos_test['pred'] = predict_docs(list(df_pos_test['mention']), batch_size=256)\n",
    "print(sum(df_pos_test['pred']>=0.5)/df_pos_test.shape[0])\n",
    "print(df_pos_test.shape)"
   ]
  },
  {
   "cell_type": "markdown",
   "metadata": {},
   "source": [
    "## Score: pr/P(y=1)"
   ]
  },
  {
   "cell_type": "markdown",
   "metadata": {},
   "source": [
    "### Eval"
   ]
  },
  {
   "cell_type": "code",
   "execution_count": 38,
   "metadata": {},
   "outputs": [],
   "source": [
    "df_pool_eval = pd.read_csv('/source/main/data_for_train/output/eval/pool.csv')"
   ]
  },
  {
   "cell_type": "code",
   "execution_count": 39,
   "metadata": {},
   "outputs": [
    {
     "name": "stderr",
     "output_type": "stream",
     "text": [
      "100%|██████████| 391/391 [00:41<00:00,  9.50it/s]\n"
     ]
    }
   ],
   "source": [
    "df_pool_eval['pred'] = predict_docs(list(df_pool_eval['mention']), batch_size=256)\n",
    "\n",
    "# print(sum(df_pool_eval['pred']>=0.5)/df_pool_eval.shape[0])\n",
    "# print(df_pool_eval.shape)"
   ]
  },
  {
   "cell_type": "code",
   "execution_count": 40,
   "metadata": {},
   "outputs": [
    {
     "data": {
      "text/plain": [
       "0.01988"
      ]
     },
     "execution_count": 40,
     "metadata": {},
     "output_type": "execute_result"
    }
   ],
   "source": [
    "sum(df_pool_eval['pred']>=0.5)/df_pool_eval.shape[0]"
   ]
  },
  {
   "cell_type": "code",
   "execution_count": 41,
   "metadata": {},
   "outputs": [
    {
     "data": {
      "text/html": [
       "<div>\n",
       "<style scoped>\n",
       "    .dataframe tbody tr th:only-of-type {\n",
       "        vertical-align: middle;\n",
       "    }\n",
       "\n",
       "    .dataframe tbody tr th {\n",
       "        vertical-align: top;\n",
       "    }\n",
       "\n",
       "    .dataframe thead th {\n",
       "        text-align: right;\n",
       "    }\n",
       "</style>\n",
       "<table border=\"1\" class=\"dataframe\">\n",
       "  <thead>\n",
       "    <tr style=\"text-align: right;\">\n",
       "      <th></th>\n",
       "      <th>mention_type</th>\n",
       "      <th>mention</th>\n",
       "      <th>pred</th>\n",
       "    </tr>\n",
       "  </thead>\n",
       "  <tbody>\n",
       "    <tr>\n",
       "      <th>65902</th>\n",
       "      <td>1</td>\n",
       "      <td>&lt; div class= '' meta '' &gt; &lt; h__d__ class= '' heading cms-title '' &gt; giá vàng hôm nay ngày __d__/__d__ : vàng giữ đà tăng ngày đầu tuần &lt; /h__d__ &gt; &lt; div id= '' ctl__d___maincontent_plargeimage '' class= '' photo cms-body '' &gt; &lt; img class= '' cms-photo '' src= '' https : //image.tinnhanhchungkhoan.vn/w__d__/uploaded/__d__/bpikpjik/__d_____d_____d__/gia-vang-hom-nay-ngay-__d__-__d___rver.jpg '' alt= '' giá vàng hôm nay ngày __d__/__d__ : vàng giữ đà tăng ngày đầu tuần '' width= '' __d__ '' &gt; &lt; p &gt; &lt; /p &gt; &lt; p class= '' imgdesc '' &gt; ảnh shutterstock. &lt; /p &gt; &lt; /div &gt; &lt;</td>\n",
       "      <td>0.999968</td>\n",
       "    </tr>\n",
       "    <tr>\n",
       "      <th>41119</th>\n",
       "      <td>1</td>\n",
       "      <td>&lt; h__d__ class= '' article-content__d__ article-content__d__ '' &gt; &lt; div id= '' ctl__d___placeholdermain_g_d__d__e__d__f__d_____d__e__d_____d__d__d_____d__fab___d__aead__d__db__d__ '' &gt; ( tbtco ) - thị trường giao dịch đầy bất ngờ trong ngày hôm nay ( __d__/__d__ ) khi xuất hiện một đợt xả hàng mạnh , đẩy đại đa số cổ phiếu giảm giá . vn-index bị ép mạnh giảm __d__,__d__ điểm , về sát __d__ điểm . &lt; /div &gt; &lt; /h__d__ &gt; &lt; div id= '' ctl__d___placeholdermain_g___d__f__d__c__d_____d_____d___a__d__f__d___c__d__bc__d__ '' &gt; &lt; /div &gt; &lt; div class= '' article-content article-content__d__ '' &gt; &lt; div id= '' ctl__d___placeholdermain_g_ab__d__e__d_____d__f__d_____d__a__d___a__d__bf___d__b__d__c__d__a__d__ '' &gt; &lt; p &gt; &lt; strong</td>\n",
       "      <td>0.978239</td>\n",
       "    </tr>\n",
       "    <tr>\n",
       "      <th>6387</th>\n",
       "      <td>2</td>\n",
       "      <td>&lt; div class= '' bbcodeblock bbcodequote '' &gt; &lt; div class= '' attribution type '' &gt; thanglong__d__ đã viết : &lt; a class= '' attributionlink '' &gt; ↑ &lt; /a &gt; &lt; /div &gt; &lt; blockquote class= '' quotecontainer '' &gt; &lt; div class= '' quote '' &gt; nguyên văn cafef thế này `` rủi ro tăng dần , hồi phục là cơ hội giãm tỉ trọng cổ phiếu `` . hi , tát nước theo mưa thì dễ , biết khi nào sắp mưa , để mình tát nước ao trước chuẩn bị , giờ ngồi chơi ngắm mưa</td>\n",
       "      <td>0.999707</td>\n",
       "    </tr>\n",
       "    <tr>\n",
       "      <th>16740</th>\n",
       "      <td>2</td>\n",
       "      <td>&lt; span &gt; &lt; b &gt; toàn cảnh nợ xấu tại __d__ ngân hàng trong __d__ tháng đầu năm &lt; /b &gt; &lt; /span &gt; &lt; br &gt; __d__-__d__-__d__ - __d__:__d__ pm | &lt; a class= '' externallink '' rel= '' nofollow '' &gt; tài chính - ngân hàng &lt; /a &gt; &lt; br &gt; &lt; br &gt; &lt; a class= '' externallink '' rel= '' nofollow '' &gt; &lt; /a &gt; &lt; br &gt; &lt; img src= '' http : //cafefcdn.com/thumb_w/__d__/__d__/__d__/__d__/photo__d__-__d__-__d__-crop-__d__.jpg '' class= '' bbcodeimage lbimage '' alt= '' [ ​img ] '' &gt; &lt; br &gt; &lt; span</td>\n",
       "      <td>0.999985</td>\n",
       "    </tr>\n",
       "    <tr>\n",
       "      <th>63483</th>\n",
       "      <td>1</td>\n",
       "      <td>&lt; iframe frameborder= '' __d__ '' marginheight= '' __d__ '' marginwidth= '' __d__ '' width= '' __d__ % '' id= '' detail_iframe_id '' &gt; &lt; /iframe &gt; &lt; br &gt; samsung vừa âm thầm ra mắt hai sản phẩm mới thuộc phân khúc trung cấp , galaxy j__d__+ và j__d__+ trên trang chủ của hãng. &lt; br &gt; với galaxy j__d__+ , sản phẩm có màn hình __d__ inch hd , chip lõi tứ tốc độ __d__,__d__ ghz , với loại chip sử dụng sẽ tùy thuộc vào từng thị trường cụ thể ( dự kiến là snapdragon __d__ ở</td>\n",
       "      <td>0.982572</td>\n",
       "    </tr>\n",
       "  </tbody>\n",
       "</table>\n",
       "</div>"
      ],
      "text/plain": [
       "       mention_type  \\\n",
       "65902  1              \n",
       "41119  1              \n",
       "6387   2              \n",
       "16740  2              \n",
       "63483  1              \n",
       "\n",
       "                                                                                                                                                                                                                                                                                                                                                                                                                                                                                                                                                                                                                                                                                                                                                mention  \\\n",
       "65902  < div class= '' meta '' > < h__d__ class= '' heading cms-title '' > giá vàng hôm nay ngày __d__/__d__ : vàng giữ đà tăng ngày đầu tuần < /h__d__ > < div id= '' ctl__d___maincontent_plargeimage '' class= '' photo cms-body '' > < img class= '' cms-photo '' src= '' https : //image.tinnhanhchungkhoan.vn/w__d__/uploaded/__d__/bpikpjik/__d_____d_____d__/gia-vang-hom-nay-ngay-__d__-__d___rver.jpg '' alt= '' giá vàng hôm nay ngày __d__/__d__ : vàng giữ đà tăng ngày đầu tuần '' width= '' __d__ '' > < p > < /p > < p class= '' imgdesc '' > ảnh shutterstock. < /p > < /div > <                                                                                                                                                         \n",
       "41119  < h__d__ class= '' article-content__d__ article-content__d__ '' > < div id= '' ctl__d___placeholdermain_g_d__d__e__d__f__d_____d__e__d_____d__d__d_____d__fab___d__aead__d__db__d__ '' > ( tbtco ) - thị trường giao dịch đầy bất ngờ trong ngày hôm nay ( __d__/__d__ ) khi xuất hiện một đợt xả hàng mạnh , đẩy đại đa số cổ phiếu giảm giá . vn-index bị ép mạnh giảm __d__,__d__ điểm , về sát __d__ điểm . < /div > < /h__d__ > < div id= '' ctl__d___placeholdermain_g___d__f__d__c__d_____d_____d___a__d__f__d___c__d__bc__d__ '' > < /div > < div class= '' article-content article-content__d__ '' > < div id= '' ctl__d___placeholdermain_g_ab__d__e__d_____d__f__d_____d__a__d___a__d__bf___d__b__d__c__d__a__d__ '' > < p > < strong   \n",
       "6387   < div class= '' bbcodeblock bbcodequote '' > < div class= '' attribution type '' > thanglong__d__ đã viết : < a class= '' attributionlink '' > ↑ < /a > < /div > < blockquote class= '' quotecontainer '' > < div class= '' quote '' > nguyên văn cafef thế này `` rủi ro tăng dần , hồi phục là cơ hội giãm tỉ trọng cổ phiếu `` . hi , tát nước theo mưa thì dễ , biết khi nào sắp mưa , để mình tát nước ao trước chuẩn bị , giờ ngồi chơi ngắm mưa                                                                                                                                                                                                                                                                                             \n",
       "16740  < span > < b > toàn cảnh nợ xấu tại __d__ ngân hàng trong __d__ tháng đầu năm < /b > < /span > < br > __d__-__d__-__d__ - __d__:__d__ pm | < a class= '' externallink '' rel= '' nofollow '' > tài chính - ngân hàng < /a > < br > < br > < a class= '' externallink '' rel= '' nofollow '' > < /a > < br > < img src= '' http : //cafefcdn.com/thumb_w/__d__/__d__/__d__/__d__/photo__d__-__d__-__d__-crop-__d__.jpg '' class= '' bbcodeimage lbimage '' alt= '' [ ​img ] '' > < br > < span                                                                                                                                                                                                                                                      \n",
       "63483  < iframe frameborder= '' __d__ '' marginheight= '' __d__ '' marginwidth= '' __d__ '' width= '' __d__ % '' id= '' detail_iframe_id '' > < /iframe > < br > samsung vừa âm thầm ra mắt hai sản phẩm mới thuộc phân khúc trung cấp , galaxy j__d__+ và j__d__+ trên trang chủ của hãng. < br > với galaxy j__d__+ , sản phẩm có màn hình __d__ inch hd , chip lõi tứ tốc độ __d__,__d__ ghz , với loại chip sử dụng sẽ tùy thuộc vào từng thị trường cụ thể ( dự kiến là snapdragon __d__ ở                                                                                                                                                                                                                                                           \n",
       "\n",
       "           pred  \n",
       "65902  0.999968  \n",
       "41119  0.978239  \n",
       "6387   0.999707  \n",
       "16740  0.999985  \n",
       "63483  0.982572  "
      ]
     },
     "execution_count": 41,
     "metadata": {},
     "output_type": "execute_result"
    }
   ],
   "source": [
    "df_pool_eval[df_pool_eval['pred']>=0.5].sample(5)"
   ]
  },
  {
   "cell_type": "markdown",
   "metadata": {},
   "source": [
    "### Test"
   ]
  },
  {
   "cell_type": "code",
   "execution_count": 55,
   "metadata": {},
   "outputs": [],
   "source": [
    "df_pool_test = pd.read_csv('/source/main/data_for_train/output/test/pool.csv')"
   ]
  },
  {
   "cell_type": "code",
   "execution_count": 56,
   "metadata": {},
   "outputs": [
    {
     "data": {
      "text/html": [
       "<div>\n",
       "<style scoped>\n",
       "    .dataframe tbody tr th:only-of-type {\n",
       "        vertical-align: middle;\n",
       "    }\n",
       "\n",
       "    .dataframe tbody tr th {\n",
       "        vertical-align: top;\n",
       "    }\n",
       "\n",
       "    .dataframe thead th {\n",
       "        text-align: right;\n",
       "    }\n",
       "</style>\n",
       "<table border=\"1\" class=\"dataframe\">\n",
       "  <thead>\n",
       "    <tr style=\"text-align: right;\">\n",
       "      <th></th>\n",
       "      <th>mention_type</th>\n",
       "      <th>mention</th>\n",
       "    </tr>\n",
       "  </thead>\n",
       "  <tbody>\n",
       "    <tr>\n",
       "      <th>0</th>\n",
       "      <td>2</td>\n",
       "      <td>thao anh pham</td>\n",
       "    </tr>\n",
       "    <tr>\n",
       "      <th>1</th>\n",
       "      <td>2</td>\n",
       "      <td>vũ đức hoàng</td>\n",
       "    </tr>\n",
       "    <tr>\n",
       "      <th>2</th>\n",
       "      <td>2</td>\n",
       "      <td>ha nhy chị nè</td>\n",
       "    </tr>\n",
       "    <tr>\n",
       "      <th>3</th>\n",
       "      <td>2</td>\n",
       "      <td>hoàng thị thu trang m ở thái bình m nhé.m đặt qua shoppe hoặc sendo sẽ dc freeship __d__k___d__k nha</td>\n",
       "    </tr>\n",
       "    <tr>\n",
       "      <th>4</th>\n",
       "      <td>2</td>\n",
       "      <td>minh minh đi ăn cho bằng hết nhá</td>\n",
       "    </tr>\n",
       "  </tbody>\n",
       "</table>\n",
       "</div>"
      ],
      "text/plain": [
       "   mention_type  \\\n",
       "0  2              \n",
       "1  2              \n",
       "2  2              \n",
       "3  2              \n",
       "4  2              \n",
       "\n",
       "                                                                                                mention  \n",
       "0  thao anh pham                                                                                         \n",
       "1  vũ đức hoàng                                                                                          \n",
       "2  ha nhy chị nè                                                                                         \n",
       "3  hoàng thị thu trang m ở thái bình m nhé.m đặt qua shoppe hoặc sendo sẽ dc freeship __d__k___d__k nha  \n",
       "4  minh minh đi ăn cho bằng hết nhá                                                                      "
      ]
     },
     "execution_count": 56,
     "metadata": {},
     "output_type": "execute_result"
    }
   ],
   "source": [
    "df_pool_test.head()"
   ]
  },
  {
   "cell_type": "code",
   "execution_count": 57,
   "metadata": {},
   "outputs": [
    {
     "name": "stderr",
     "output_type": "stream",
     "text": [
      "100%|██████████| 391/391 [00:41<00:00,  9.53it/s]\n"
     ]
    }
   ],
   "source": [
    "df_pool_test['pred'] = predict_docs(list(df_pool_test['mention']), batch_size=256)"
   ]
  },
  {
   "cell_type": "code",
   "execution_count": 58,
   "metadata": {},
   "outputs": [
    {
     "name": "stdout",
     "output_type": "stream",
     "text": [
      "0.02103\n",
      "(100000, 3)\n"
     ]
    }
   ],
   "source": [
    "print(sum(df_pool_test['pred']>=0.5)/df_pool_test.shape[0])\n",
    "print(df_pool_test.shape)"
   ]
  },
  {
   "cell_type": "code",
   "execution_count": 45,
   "metadata": {},
   "outputs": [],
   "source": [
    "df_pool_eval[df_pool_eval['pred']>=0.5].sample(200).to_csv('13b.csv', index=None)"
   ]
  },
  {
   "cell_type": "code",
   "execution_count": 113,
   "metadata": {},
   "outputs": [
    {
     "name": "stderr",
     "output_type": "stream",
     "text": [
      "100%|██████████| 1/1 [00:00<00:00, 10.97it/s]\n"
     ]
    },
    {
     "data": {
      "text/plain": [
       "[0.65487015]"
      ]
     },
     "execution_count": 113,
     "metadata": {},
     "output_type": "execute_result"
    }
   ],
   "source": [
    "predict_docs(batch_size=1, docs=[\"\"\" < img src= '' http : //cafefcdn.com/zoom/__d_____d__/__d__/__d__/__d__/photo__d__-__d__.jpg '' title= '' bvh tăng trần “ trắng bên bán ” , vnindex tiếp tục tăng hơn __d__ điểm '' > < br > tạm dừng phiên giao dịch buổi sáng , vnindex tăng __d__,__d__ điểm ( __d__,__d__ % ) lên __d__.__d__,__d__ điểm ; hnx-index tăng __d__,__d__ điểm ( __d__,__d__ % ) lên __d__,__d__ điểm ; upcom-index tăng __d__,__d__ điểm ( __d__,__d__ % ) lên __d__,__d__ điểm . < br > < span id= '' maincontent '' > < p > càng về cuối buổi sáng , giao dịch càng trở nên tích \"\"\"])"
   ]
  },
  {
   "cell_type": "code",
   "execution_count": 109,
   "metadata": {},
   "outputs": [
    {
     "data": {
      "text/html": [
       "<div>\n",
       "<style scoped>\n",
       "    .dataframe tbody tr th:only-of-type {\n",
       "        vertical-align: middle;\n",
       "    }\n",
       "\n",
       "    .dataframe tbody tr th {\n",
       "        vertical-align: top;\n",
       "    }\n",
       "\n",
       "    .dataframe thead th {\n",
       "        text-align: right;\n",
       "    }\n",
       "</style>\n",
       "<table border=\"1\" class=\"dataframe\">\n",
       "  <thead>\n",
       "    <tr style=\"text-align: right;\">\n",
       "      <th></th>\n",
       "      <th>mention_type</th>\n",
       "      <th>mention</th>\n",
       "      <th>pred</th>\n",
       "    </tr>\n",
       "  </thead>\n",
       "  <tbody>\n",
       "    <tr>\n",
       "      <th>28207</th>\n",
       "      <td>2</td>\n",
       "      <td>có nikon d__d__ ko bạn ? cho xin cái giá &lt; div class= '' messagetextendmarker '' &gt; &lt; /div &gt;</td>\n",
       "      <td>0.97319</td>\n",
       "    </tr>\n",
       "  </tbody>\n",
       "</table>\n",
       "</div>"
      ],
      "text/plain": [
       "       mention_type  \\\n",
       "28207  2              \n",
       "\n",
       "                                                                                           mention  \\\n",
       "28207  có nikon d__d__ ko bạn ? cho xin cái giá < div class= '' messagetextendmarker '' > < /div >   \n",
       "\n",
       "          pred  \n",
       "28207  0.97319  "
      ]
     },
     "execution_count": 109,
     "metadata": {},
     "output_type": "execute_result"
    }
   ],
   "source": [
    "df_pool_eval[df_pool_eval['mention']==\"\"\"có nikon d__d__ ko bạn ? cho xin cái giá < div class= '' messagetextendmarker '' > < /div >\"\"\"]"
   ]
  },
  {
   "cell_type": "code",
   "execution_count": 78,
   "metadata": {},
   "outputs": [
    {
     "data": {
      "text/html": [
       "<div>\n",
       "<style scoped>\n",
       "    .dataframe tbody tr th:only-of-type {\n",
       "        vertical-align: middle;\n",
       "    }\n",
       "\n",
       "    .dataframe tbody tr th {\n",
       "        vertical-align: top;\n",
       "    }\n",
       "\n",
       "    .dataframe thead th {\n",
       "        text-align: right;\n",
       "    }\n",
       "</style>\n",
       "<table border=\"1\" class=\"dataframe\">\n",
       "  <thead>\n",
       "    <tr style=\"text-align: right;\">\n",
       "      <th></th>\n",
       "      <th>mention_type</th>\n",
       "      <th>mention</th>\n",
       "      <th>pred</th>\n",
       "    </tr>\n",
       "  </thead>\n",
       "  <tbody>\n",
       "    <tr>\n",
       "      <th>14268</th>\n",
       "      <td>2</td>\n",
       "      <td>&lt; a class= '' username author bdposttree_replyposter '' dir= '' auto '' &gt; vtb center &lt; /a &gt; &lt; div class= '' bdposttree_parentquote hash-b__d__ea__d__b__d__e__d__e__d__c__d__a__d__f__d__aee '' &gt; &lt; div class= '' bbcodeblock bbcodequote '' &gt; &lt; div class= '' attribution type '' &gt; conchott đã nói : &lt; a class= '' attributionlink '' &gt; ↑ &lt; /a &gt; &lt; /div &gt; &lt; blockquote class= '' quotecontainer '' &gt; &lt; div class= '' quote '' &gt; chơi dữ thật , .chắc thấy apple bị nv nên cũng sợ &lt; /div &gt; &lt; div class= '' quoteexpand '' &gt; bấm để mở rộng</td>\n",
       "      <td>1.000000</td>\n",
       "    </tr>\n",
       "    <tr>\n",
       "      <th>35910</th>\n",
       "      <td>1</td>\n",
       "      <td>&lt; h__d__ &gt; &lt; img src= '' http : //nguoilambao.vn/templates/default/images/logo.png '' alt= '' vpbank lọt top __d__ doanh nghiệp tư nhân lớn nhất việt nam __d__ '' &gt; - ngân hàng tmcp việt nam thịnh vượng ( vpbank ) vừa được vnr đánh giá nằm trong top __d__ doanh nghiệp tư nhân lớn nhất và top __d__ doanh nghiệp tư nhân có lợi nhuận tốt nhất việt nam . &lt; /h__d__ &gt; &lt; br &gt; &lt; p &gt; &lt; img alt= '' '' src= '' http : //nguoilambao.vn/upload_images/images/vpbank_web.jpg '' &gt; &lt; /p &gt; &lt; p &gt; &lt; em &gt; vpbank</td>\n",
       "      <td>0.921351</td>\n",
       "    </tr>\n",
       "    <tr>\n",
       "      <th>928</th>\n",
       "      <td>1</td>\n",
       "      <td>trong khi nhiều ngân hàng tích cực đưa nợ xấu về dưới __d__ % , một số trường hợp có nợ xấu cao do đi vào các lĩnh vực “ mạo hiểm ” . &lt; br &gt; &lt; center &gt; &lt; table class= '' paper-box node '' id= '' __d__ '' align= '' center '' &gt; &lt; tbody &gt; &lt; tr &gt; &lt; td &gt; &lt; img class= '' paper-img '' alt= '' '' src= '' http : //cdn.baogiaothong.vn/files/baogiay/__d__/__d__/__d__/__d__-__d__.jpg '' &gt; &lt; /td &gt; &lt; /tr &gt; &lt; tr &gt; &lt; td &gt; &lt; p class= '' caption '' align=</td>\n",
       "      <td>0.999936</td>\n",
       "    </tr>\n",
       "    <tr>\n",
       "      <th>36530</th>\n",
       "      <td>2</td>\n",
       "      <td>bác nào rành thủ tục trả góp cho mình hỏi , mình đang tính mua __d__ cái body sony a__d__ iii giá niêm yết là __d__tr và muốn trả góp , mình đang dùng thẻ credit của hdbank thì trả góp thế nào là kinh tế nhất ạ ? phí chuyển đổi thẻ là phí gì vậy các bác ? &lt; br &gt; &lt; br &gt; mình cảm ơn &lt; img src= '' http : //forums.voz.vn/images/smilies/off/big_smile.gif '' border= '' __d__ '' alt= '' '' title= '' big smile '' class= '' inlineimg '' &gt;</td>\n",
       "      <td>0.666543</td>\n",
       "    </tr>\n",
       "    <tr>\n",
       "      <th>40366</th>\n",
       "      <td>2</td>\n",
       "      <td>mời các cụ luận sấm trạng trình &lt; br &gt; &lt; br &gt; mười phần chết bảy còn ba &lt; br &gt; chết hai còn một mới ra thái bình . &lt; div class= '' messagetextendmarker '' &gt; &lt; /div &gt;</td>\n",
       "      <td>0.810457</td>\n",
       "    </tr>\n",
       "    <tr>\n",
       "      <th>54178</th>\n",
       "      <td>1</td>\n",
       "      <td>&lt; p class= '' leada '' &gt; vietcombank rao bán tới __d__,__d__ triệu cổ phiếu mbb , nhưng chỉ có __d__ nhà đầu tư đăng ký mua tổng cộng __d__,__d__ triệu cổ phiếu . tuy nhiên , giá trị giao dịch của mbb trong ngày __d__/__d__ vẫn đạt __d__.__d__ đồng/cp , cao hơn __d__ % so với giá trị chào bán. &lt; /p &gt; &lt; div &gt; &lt; img border= '' __d__ '' src= '' http : //www.xaluan.com/images/news/image/__d__/__d__/__d__/__d__bbd__d__aab__d__c__d__.img.jpg '' alt= '' vietcombank chỉ bán được __d__ % tổng số cổ phần mbbank chào bán '' class= '' headimg '' &gt;</td>\n",
       "      <td>0.651308</td>\n",
       "    </tr>\n",
       "    <tr>\n",
       "      <th>23195</th>\n",
       "      <td>1</td>\n",
       "      <td>&lt; span &gt; bizlive - &lt; /span &gt; sau daiabank , pgbank sẽ sáp nhập vào hdbank , điều này sẽ giúp hdbank rút ngắn thời gian để trở thành một trong __d__ ngân hàng lớn nhất việt nam . &lt; div class= '' social '' &gt; &lt; div &gt; &lt; a class= '' zshare-zalo zalo-share-button '' &gt; &lt; span class= '' zshare-label '' &gt; chia sẻ &lt; /span &gt; &lt; /a &gt; &lt; div class= '' fb-send '' &gt; &lt; /div &gt; &lt; div class= '' fb-like '' &gt; &lt; /div &gt; &lt; /div &gt; &lt; div &gt; &lt;</td>\n",
       "      <td>0.636466</td>\n",
       "    </tr>\n",
       "    <tr>\n",
       "      <th>17149</th>\n",
       "      <td>1</td>\n",
       "      <td>&lt; div class= '' sapo_detail '' &gt; &lt; p &gt; &lt; span &gt; thcl &lt; /span &gt; - sau ngân hàng tmcp đầu tư và phát triển việt nam ( bidv ) tăng phí dịch vụ thì gần đây các nhiều ngân hàng cũng đồng loạt thông báo điều chỉnh phí giao dịch . theo đó , các ngân hàng giải thích việc tăng phí là để bù đắp các chi phí đầu tư. &lt; /p &gt; &lt; /div &gt; &lt; div id= '' cotent_detail '' class= '' pkg '' &gt; &lt; p &gt; ngân hàng tmcp đầu tư và</td>\n",
       "      <td>0.640712</td>\n",
       "    </tr>\n",
       "    <tr>\n",
       "      <th>90801</th>\n",
       "      <td>1</td>\n",
       "      <td>&lt; div class= '' item_slide_show clearfix '' &gt; &lt; div class= '' block_thumb_slide_show '' &gt; &lt; img alt= '' __d__ tủ lạnh tốt nhất __d__ '' class= '' left displayafterresize vne_lazy_image '' &gt; &lt; a class= '' icon_thumb_videophoto icon_thumb_zoom btn_icon_show_slide_show '' &gt; &lt; i class= '' ic ic-expand '' &gt; &lt; /i &gt; &lt; /a &gt; &lt; /div &gt; &lt; div class= '' desc_cation '' &gt; &lt; p &gt; &lt; strong &gt; panasonic nr-dz__d__gkvn ( __d__ triệu đồng ) &lt; /strong &gt; &lt; /p &gt; &lt; p &gt; là dòng sản phẩm cao cấp nhất của thương hiệu panasonic ra</td>\n",
       "      <td>0.999998</td>\n",
       "    </tr>\n",
       "    <tr>\n",
       "      <th>32600</th>\n",
       "      <td>2</td>\n",
       "      <td>&lt; div class= '' bbcodeblock bbcodequote '' &gt; &lt; div class= '' attribution type '' &gt; manhtran__d__ nói : &lt; a class= '' attributionlink '' &gt; ↑ &lt; /a &gt; &lt; /div &gt; &lt; blockquote class= '' quotecontainer '' &gt; &lt; div class= '' quote '' &gt; có thì hẳn nói bác ah . như tôi đây không phải tay ngang về mặt hiển thị màu ( dân đồ họa ) nên khi nghe bác bảo rằng pana màu bệt thì cũng chịu . nhưng đừng nói những gì không phải là sự thật . thân. &lt; /div &gt; &lt;</td>\n",
       "      <td>0.999796</td>\n",
       "    </tr>\n",
       "  </tbody>\n",
       "</table>\n",
       "</div>"
      ],
      "text/plain": [
       "       mention_type  \\\n",
       "14268  2              \n",
       "35910  1              \n",
       "928    1              \n",
       "36530  2              \n",
       "40366  2              \n",
       "54178  1              \n",
       "23195  1              \n",
       "17149  1              \n",
       "90801  1              \n",
       "32600  2              \n",
       "\n",
       "                                                                                                                                                                                                                                                                                                                                                                                                                                                                                                                                                             mention  \\\n",
       "14268  < a class= '' username author bdposttree_replyposter '' dir= '' auto '' > vtb center < /a > < div class= '' bdposttree_parentquote hash-b__d__ea__d__b__d__e__d__e__d__c__d__a__d__f__d__aee '' > < div class= '' bbcodeblock bbcodequote '' > < div class= '' attribution type '' > conchott đã nói : < a class= '' attributionlink '' > ↑ < /a > < /div > < blockquote class= '' quotecontainer '' > < div class= '' quote '' > chơi dữ thật , .chắc thấy apple bị nv nên cũng sợ < /div > < div class= '' quoteexpand '' > bấm để mở rộng                    \n",
       "35910  < h__d__ > < img src= '' http : //nguoilambao.vn/templates/default/images/logo.png '' alt= '' vpbank lọt top __d__ doanh nghiệp tư nhân lớn nhất việt nam __d__ '' > - ngân hàng tmcp việt nam thịnh vượng ( vpbank ) vừa được vnr đánh giá nằm trong top __d__ doanh nghiệp tư nhân lớn nhất và top __d__ doanh nghiệp tư nhân có lợi nhuận tốt nhất việt nam . < /h__d__ > < br > < p > < img alt= '' '' src= '' http : //nguoilambao.vn/upload_images/images/vpbank_web.jpg '' > < /p > < p > < em > vpbank                                                  \n",
       "928    trong khi nhiều ngân hàng tích cực đưa nợ xấu về dưới __d__ % , một số trường hợp có nợ xấu cao do đi vào các lĩnh vực “ mạo hiểm ” . < br > < center > < table class= '' paper-box node '' id= '' __d__ '' align= '' center '' > < tbody > < tr > < td > < img class= '' paper-img '' alt= '' '' src= '' http : //cdn.baogiaothong.vn/files/baogiay/__d__/__d__/__d__/__d__-__d__.jpg '' > < /td > < /tr > < tr > < td > < p class= '' caption '' align=                                                                                                       \n",
       "36530  bác nào rành thủ tục trả góp cho mình hỏi , mình đang tính mua __d__ cái body sony a__d__ iii giá niêm yết là __d__tr và muốn trả góp , mình đang dùng thẻ credit của hdbank thì trả góp thế nào là kinh tế nhất ạ ? phí chuyển đổi thẻ là phí gì vậy các bác ? < br > < br > mình cảm ơn < img src= '' http : //forums.voz.vn/images/smilies/off/big_smile.gif '' border= '' __d__ '' alt= '' '' title= '' big smile '' class= '' inlineimg '' >                                                                                                               \n",
       "40366  mời các cụ luận sấm trạng trình < br > < br > mười phần chết bảy còn ba < br > chết hai còn một mới ra thái bình . < div class= '' messagetextendmarker '' > < /div >                                                                                                                                                                                                                                                                                                                                                                                           \n",
       "54178  < p class= '' leada '' > vietcombank rao bán tới __d__,__d__ triệu cổ phiếu mbb , nhưng chỉ có __d__ nhà đầu tư đăng ký mua tổng cộng __d__,__d__ triệu cổ phiếu . tuy nhiên , giá trị giao dịch của mbb trong ngày __d__/__d__ vẫn đạt __d__.__d__ đồng/cp , cao hơn __d__ % so với giá trị chào bán. < /p > < div > < img border= '' __d__ '' src= '' http : //www.xaluan.com/images/news/image/__d__/__d__/__d__/__d__bbd__d__aab__d__c__d__.img.jpg '' alt= '' vietcombank chỉ bán được __d__ % tổng số cổ phần mbbank chào bán '' class= '' headimg '' >   \n",
       "23195  < span > bizlive - < /span > sau daiabank , pgbank sẽ sáp nhập vào hdbank , điều này sẽ giúp hdbank rút ngắn thời gian để trở thành một trong __d__ ngân hàng lớn nhất việt nam . < div class= '' social '' > < div > < a class= '' zshare-zalo zalo-share-button '' > < span class= '' zshare-label '' > chia sẻ < /span > < /a > < div class= '' fb-send '' > < /div > < div class= '' fb-like '' > < /div > < /div > < div > <                                                                                                                               \n",
       "17149  < div class= '' sapo_detail '' > < p > < span > thcl < /span > - sau ngân hàng tmcp đầu tư và phát triển việt nam ( bidv ) tăng phí dịch vụ thì gần đây các nhiều ngân hàng cũng đồng loạt thông báo điều chỉnh phí giao dịch . theo đó , các ngân hàng giải thích việc tăng phí là để bù đắp các chi phí đầu tư. < /p > < /div > < div id= '' cotent_detail '' class= '' pkg '' > < p > ngân hàng tmcp đầu tư và                                                                                                                                               \n",
       "90801  < div class= '' item_slide_show clearfix '' > < div class= '' block_thumb_slide_show '' > < img alt= '' __d__ tủ lạnh tốt nhất __d__ '' class= '' left displayafterresize vne_lazy_image '' > < a class= '' icon_thumb_videophoto icon_thumb_zoom btn_icon_show_slide_show '' > < i class= '' ic ic-expand '' > < /i > < /a > < /div > < div class= '' desc_cation '' > < p > < strong > panasonic nr-dz__d__gkvn ( __d__ triệu đồng ) < /strong > < /p > < p > là dòng sản phẩm cao cấp nhất của thương hiệu panasonic ra                                      \n",
       "32600  < div class= '' bbcodeblock bbcodequote '' > < div class= '' attribution type '' > manhtran__d__ nói : < a class= '' attributionlink '' > ↑ < /a > < /div > < blockquote class= '' quotecontainer '' > < div class= '' quote '' > có thì hẳn nói bác ah . như tôi đây không phải tay ngang về mặt hiển thị màu ( dân đồ họa ) nên khi nghe bác bảo rằng pana màu bệt thì cũng chịu . nhưng đừng nói những gì không phải là sự thật . thân. < /div > <                                                                                                           \n",
       "\n",
       "           pred  \n",
       "14268  1.000000  \n",
       "35910  0.921351  \n",
       "928    0.999936  \n",
       "36530  0.666543  \n",
       "40366  0.810457  \n",
       "54178  0.651308  \n",
       "23195  0.636466  \n",
       "17149  0.640712  \n",
       "90801  0.999998  \n",
       "32600  0.999796  "
      ]
     },
     "execution_count": 78,
     "metadata": {},
     "output_type": "execute_result"
    }
   ],
   "source": [
    "df_pool_eval[df_pool_eval['pred']>=0.5].sample(10)"
   ]
  },
  {
   "cell_type": "code",
   "execution_count": 71,
   "metadata": {},
   "outputs": [],
   "source": [
    "x=['< div class= '' bbcodeblock bbcodequote '' > < div class= '' attribution type '' > quyet__d__ đã viết : < a class= '' attributionlink '' > ↑ < /a > < /div > < blockquote class= '' quotecontainer '' > < div class= '' quote '' > '' trước đó , sacombank đã liên tiếp đạt các giải thưởng quan trọng như giải < b > ngân hàng có mạng lưới chấp nhận thẻ hiệu quả nhất __d__ < /b > do hiệp hội các ngân hàng việt nam phối hợp với tập đoàn dữ liệu quốc tế idg']"
   ]
  },
  {
   "cell_type": "code",
   "execution_count": 73,
   "metadata": {},
   "outputs": [
    {
     "data": {
      "text/plain": [
       "['< div class=  bbcodeblock bbcodequote  > < div class=  attribution type  > quyet__d__ đã viết : < a class=  attributionlink  > ↑ < /a > < /div > < blockquote class=  quotecontainer  > < div class=  quote  >  trước đó , sacombank đã liên tiếp đạt các giải thưởng quan trọng như giải < b > ngân hàng có mạng lưới chấp nhận thẻ hiệu quả nhất __d__ < /b > do hiệp hội các ngân hàng việt nam phối hợp với tập đoàn dữ liệu quốc tế idg']"
      ]
     },
     "execution_count": 73,
     "metadata": {},
     "output_type": "execute_result"
    }
   ],
   "source": [
    "x"
   ]
  },
  {
   "cell_type": "code",
   "execution_count": 74,
   "metadata": {},
   "outputs": [
    {
     "name": "stderr",
     "output_type": "stream",
     "text": [
      "100%|██████████| 1/1 [00:00<00:00, 25.11it/s]\n"
     ]
    },
    {
     "data": {
      "text/plain": [
       "[2.0627836e-11]"
      ]
     },
     "execution_count": 74,
     "metadata": {},
     "output_type": "execute_result"
    }
   ],
   "source": [
    "predict_docs(x, batch_size=2)"
   ]
  },
  {
   "cell_type": "code",
   "execution_count": null,
   "metadata": {},
   "outputs": [],
   "source": []
  },
  {
   "cell_type": "markdown",
   "metadata": {
    "heading_collapsed": true
   },
   "source": [
    "## Precision"
   ]
  },
  {
   "cell_type": "code",
   "execution_count": null,
   "metadata": {
    "hidden": true
   },
   "outputs": [],
   "source": [
    "voc = Voc.load('/source/main/vocab/output/voc.pkl')\n",
    "positive_data = PositiveDataset('/source/main/data_for_train/output/positive_class_1.csv')"
   ]
  },
  {
   "cell_type": "code",
   "execution_count": null,
   "metadata": {
    "hidden": true
   },
   "outputs": [],
   "source": [
    "df_pos = pd.DataFrame({'mention': list(positive_data)})\n"
   ]
  },
  {
   "cell_type": "code",
   "execution_count": null,
   "metadata": {
    "hidden": true
   },
   "outputs": [],
   "source": [
    "df_pos['pred'] = predict_docs(df_pos['mention'], batch_size=256)"
   ]
  },
  {
   "cell_type": "code",
   "execution_count": null,
   "metadata": {
    "hidden": true
   },
   "outputs": [],
   "source": [
    "df_pos['pred'].iloc[:100].describe()"
   ]
  },
  {
   "cell_type": "code",
   "execution_count": null,
   "metadata": {
    "hidden": true
   },
   "outputs": [],
   "source": [
    "df_pos['pred'].describe()"
   ]
  },
  {
   "cell_type": "code",
   "execution_count": null,
   "metadata": {
    "hidden": true
   },
   "outputs": [],
   "source": [
    "print((df_pos['pred'] > 0.5).sum()/df_pos.shape[0])"
   ]
  },
  {
   "cell_type": "code",
   "execution_count": null,
   "metadata": {
    "hidden": true
   },
   "outputs": [],
   "source": [
    "negative_data = PoolDocs('/source/main/data_for_train/output/huge_pool/')\n",
    "df_pool = pd.DataFrame({'mention': list(negative_data)})"
   ]
  },
  {
   "cell_type": "code",
   "execution_count": null,
   "metadata": {
    "hidden": true
   },
   "outputs": [],
   "source": [
    "df_pool['pred'] = predict_docs(df_pool['mention'], batch_size=256)"
   ]
  },
  {
   "cell_type": "code",
   "execution_count": null,
   "metadata": {
    "hidden": true
   },
   "outputs": [],
   "source": [
    "(df_pool['pred']>0.5).sum()"
   ]
  },
  {
   "cell_type": "code",
   "execution_count": null,
   "metadata": {
    "hidden": true
   },
   "outputs": [],
   "source": [
    "df_pool[df_pool['pred']>0.5]"
   ]
  },
  {
   "cell_type": "code",
   "execution_count": null,
   "metadata": {
    "hidden": true
   },
   "outputs": [],
   "source": [
    "5406/200000*512"
   ]
  },
  {
   "cell_type": "code",
   "execution_count": null,
   "metadata": {
    "hidden": true
   },
   "outputs": [],
   "source": [
    "predict_batch(['cái đó bao nhiu '])"
   ]
  },
  {
   "cell_type": "code",
   "execution_count": null,
   "metadata": {
    "hidden": true
   },
   "outputs": [],
   "source": [
    "df_pool[(df_pool['pred']>0.5)].sample(10)"
   ]
  },
  {
   "cell_type": "markdown",
   "metadata": {},
   "source": [
    "## Precision on preserved topics"
   ]
  },
  {
   "cell_type": "code",
   "execution_count": null,
   "metadata": {},
   "outputs": [],
   "source": [
    "df_tags = pd.read_csv('/source/main/data_download/output/auxiliary/app_tags.csv')\n",
    "df_tags = df_tags[['id', 'name']]\n",
    "df_tags_price = df_tags[df_tags['name'].map(lambda x: x.lower().find('price neutral') != -1)]\n",
    "tags_price = set(df_tags_price['id'])"
   ]
  },
  {
   "cell_type": "code",
   "execution_count": null,
   "metadata": {},
   "outputs": [],
   "source": [
    "df_topics = pd.read_csv('/source/main/data_download//output/from_sentiment_price/data_for_evaluate.csv')\n",
    "df_topics.dropna(subset=['id', 'topic_id', 'sentiment', 'sentiment_auto', 'tags', 'search_text'], inplace=True, how='any')\n",
    "df_topics['search_text'] = df_topics['search_text'].map(ast.literal_eval)\n",
    "df_topics['mention'] = df_topics['search_text'].map(lambda x: x[1])\n",
    "df_topics = df_topics[['id', 'topic_id', 'sentiment', 'sentiment_auto', 'tags', 'mention']]"
   ]
  },
  {
   "cell_type": "code",
   "execution_count": null,
   "metadata": {},
   "outputs": [],
   "source": [
    "df_topics['tags'] = df_topics['tags'].map(ast.literal_eval)"
   ]
  },
  {
   "cell_type": "code",
   "execution_count": null,
   "metadata": {},
   "outputs": [],
   "source": [
    "df_topics['price_neutral'] = df_topics['tags'].map(lambda x: not tags_price.isdisjoint(x))\n",
    "df_topics['price_neutral'].sum()"
   ]
  },
  {
   "cell_type": "code",
   "execution_count": null,
   "metadata": {},
   "outputs": [],
   "source": [
    "df_topics.shape"
   ]
  },
  {
   "cell_type": "code",
   "execution_count": null,
   "metadata": {},
   "outputs": [],
   "source": [
    "docs = list(df_topics['mention'].map(lambda x: ' '.join(x.split()[:150])))"
   ]
  },
  {
   "cell_type": "code",
   "execution_count": null,
   "metadata": {},
   "outputs": [],
   "source": [
    "df_topics['pred'] = predict_docs(docs, batch_size=128)"
   ]
  },
  {
   "cell_type": "code",
   "execution_count": null,
   "metadata": {},
   "outputs": [],
   "source": [
    "print((df_topics['pred']>0.5).sum())"
   ]
  },
  {
   "cell_type": "code",
   "execution_count": null,
   "metadata": {},
   "outputs": [],
   "source": [
    "print(metrics.classification_report(y_true=df_topics['price_neutral'], y_pred=df_topics['pred']>=0.5))"
   ]
  },
  {
   "cell_type": "code",
   "execution_count": null,
   "metadata": {},
   "outputs": [],
   "source": [
    "df_topics[df_topics['pred']>=0.5].sample(10)"
   ]
  },
  {
   "cell_type": "code",
   "execution_count": null,
   "metadata": {},
   "outputs": [],
   "source": [
    "df_topics[(df_topics['pred']<0.5) & (df_topics['mention'].map(lambda x: x.find('giá') != -1))].sample(10)"
   ]
  },
  {
   "cell_type": "code",
   "execution_count": null,
   "metadata": {},
   "outputs": [],
   "source": []
  },
  {
   "cell_type": "code",
   "execution_count": null,
   "metadata": {},
   "outputs": [],
   "source": []
  },
  {
   "cell_type": "code",
   "execution_count": null,
   "metadata": {},
   "outputs": [],
   "source": []
  },
  {
   "cell_type": "code",
   "execution_count": null,
   "metadata": {},
   "outputs": [],
   "source": []
  },
  {
   "cell_type": "code",
   "execution_count": null,
   "metadata": {},
   "outputs": [],
   "source": [
    "device = torch.device('cuda')\n",
    "checkpoint = torch.load('/source/main/train/output/saved_models/temp/None.pt', map_location=device)\n",
    "model.load_state_dict(checkpoint['model_state_dict'])\n",
    "model.eval()"
   ]
  },
  {
   "cell_type": "code",
   "execution_count": null,
   "metadata": {},
   "outputs": [],
   "source": [
    "predict_docs(['giá bao tiền', 'ee'], batch_size=1)"
   ]
  },
  {
   "cell_type": "code",
   "execution_count": null,
   "metadata": {},
   "outputs": [],
   "source": []
  },
  {
   "cell_type": "code",
   "execution_count": null,
   "metadata": {},
   "outputs": [],
   "source": []
  }
 ],
 "metadata": {
  "kernelspec": {
   "display_name": "Python 3",
   "language": "python",
   "name": "python3"
  },
  "language_info": {
   "codemirror_mode": {
    "name": "ipython",
    "version": 3
   },
   "file_extension": ".py",
   "mimetype": "text/x-python",
   "name": "python",
   "nbconvert_exporter": "python",
   "pygments_lexer": "ipython3",
   "version": "3.6.8"
  }
 },
 "nbformat": 4,
 "nbformat_minor": 2
}
