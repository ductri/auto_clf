{
 "cells": [
  {
   "cell_type": "code",
   "execution_count": 2,
   "metadata": {},
   "outputs": [],
   "source": [
    "import sys\n",
    "sys.path.append('/source/main')"
   ]
  },
  {
   "cell_type": "code",
   "execution_count": 3,
   "metadata": {},
   "outputs": [],
   "source": [
    "import ast\n",
    "\n",
    "from tqdm import tqdm\n",
    "from pathlib import Path\n",
    "import pandas as pd\n",
    "pd.set_option('display.max_colwidth', -1)\n",
    "from joblib import Parallel, delayed\n",
    "\n",
    "from preprocess import preprocessor"
   ]
  },
  {
   "cell_type": "code",
   "execution_count": 11,
   "metadata": {},
   "outputs": [],
   "source": [
    "root = Path('/source/main/preprocess/output/topics/')"
   ]
  },
  {
   "cell_type": "code",
   "execution_count": 16,
   "metadata": {},
   "outputs": [
    {
     "name": "stderr",
     "output_type": "stream",
     "text": [
      "\n",
      "\n",
      "  0%|          | 0/301 [00:00<?, ?it/s]\u001b[A\u001b[A"
     ]
    },
    {
     "name": "stdout",
     "output_type": "stream",
     "text": [
      "12654.csv - 33490\n"
     ]
    },
    {
     "name": "stderr",
     "output_type": "stream",
     "text": [
      "\n",
      "\n",
      "  0%|          | 1/301 [00:00<02:32,  1.97it/s]\u001b[A\u001b[A\n",
      "\n",
      "  1%|          | 2/301 [00:00<01:59,  2.49it/s]\u001b[A\u001b[A"
     ]
    },
    {
     "name": "stdout",
     "output_type": "stream",
     "text": [
      "6315.csv - 10789\n",
      "20807.csv - 1715\n",
      "2638.csv - 6993\n"
     ]
    },
    {
     "name": "stderr",
     "output_type": "stream",
     "text": [
      "\n",
      "\n",
      "  1%|▏         | 4/301 [00:00<01:28,  3.35it/s]\u001b[A\u001b[A\n",
      "\n",
      "  2%|▏         | 5/301 [00:01<01:22,  3.60it/s]\u001b[A\u001b[A"
     ]
    },
    {
     "name": "stdout",
     "output_type": "stream",
     "text": [
      "20771.csv - 16727\n",
      "31015.csv - 1469\n",
      "29966.csv - 2421\n",
      "19370.csv - 24394\n"
     ]
    },
    {
     "name": "stderr",
     "output_type": "stream",
     "text": [
      "\n",
      "\n",
      "  3%|▎         | 8/301 [00:01<01:08,  4.28it/s]\u001b[A\u001b[A\n",
      "\n",
      "  4%|▎         | 11/301 [00:01<00:51,  5.59it/s]\u001b[A\u001b[A"
     ]
    },
    {
     "name": "stdout",
     "output_type": "stream",
     "text": [
      "36618.csv - 3928\n",
      "6872.csv - 1437\n",
      "20773.csv - 4632\n",
      "21612.csv - 21418\n"
     ]
    },
    {
     "name": "stderr",
     "output_type": "stream",
     "text": [
      "\n",
      "\n",
      "  4%|▍         | 13/301 [00:01<00:51,  5.59it/s]\u001b[A\u001b[A\n",
      "\n",
      "  5%|▍         | 15/301 [00:02<00:40,  7.13it/s]\u001b[A\u001b[A"
     ]
    },
    {
     "name": "stdout",
     "output_type": "stream",
     "text": [
      "28075.csv - 4676\n",
      "28083.csv - 144\n",
      "15689.csv - 5253\n",
      "38130.csv - 6373\n"
     ]
    },
    {
     "name": "stderr",
     "output_type": "stream",
     "text": [
      "\n",
      "\n",
      "  6%|▌         | 17/301 [00:02<00:33,  8.46it/s]\u001b[A\u001b[A\n",
      "\n",
      "  6%|▋         | 19/301 [00:02<00:27, 10.18it/s]\u001b[A\u001b[A"
     ]
    },
    {
     "name": "stdout",
     "output_type": "stream",
     "text": [
      "7175.csv - 3067\n",
      "34404.csv - 8156\n",
      "24097.csv - 1\n",
      "31012.csv - 2036\n"
     ]
    },
    {
     "name": "stderr",
     "output_type": "stream",
     "text": [
      "\n",
      "\n",
      "  7%|▋         | 21/301 [00:02<00:24, 11.37it/s]\u001b[A\u001b[A"
     ]
    },
    {
     "name": "stdout",
     "output_type": "stream",
     "text": [
      "20815.csv - 5675\n",
      "27442.csv - 31050\n"
     ]
    },
    {
     "name": "stderr",
     "output_type": "stream",
     "text": [
      "\n",
      "\n",
      "  8%|▊         | 23/301 [00:02<00:35,  7.93it/s]\u001b[A\u001b[A"
     ]
    },
    {
     "name": "stdout",
     "output_type": "stream",
     "text": [
      "29131.csv - 2\n",
      "3288.csv - 2541\n",
      "2969.csv - 22594\n"
     ]
    },
    {
     "name": "stderr",
     "output_type": "stream",
     "text": [
      "\n",
      "\n",
      "  8%|▊         | 25/301 [00:03<00:41,  6.57it/s]\u001b[A\u001b[A\n",
      "\n",
      " 10%|▉         | 30/301 [00:03<00:30,  8.87it/s]\u001b[A\u001b[A"
     ]
    },
    {
     "name": "stdout",
     "output_type": "stream",
     "text": [
      "22413.csv - 4158\n",
      "20905.csv - 231\n",
      "28954.csv - 21\n",
      "24101.csv - 21\n",
      "15799.csv - 170\n",
      "25883.csv - 4363\n",
      "22414.csv - 4890\n",
      "3608.csv - 57330\n"
     ]
    },
    {
     "name": "stderr",
     "output_type": "stream",
     "text": [
      "\n",
      "\n",
      " 11%|█         | 33/301 [00:04<00:46,  5.75it/s]\u001b[A\u001b[A\n",
      "\n",
      " 13%|█▎        | 38/301 [00:04<00:34,  7.52it/s]\u001b[A\u001b[A"
     ]
    },
    {
     "name": "stdout",
     "output_type": "stream",
     "text": [
      "38305.csv - 401\n",
      "25968.csv - 1871\n",
      "12682.csv - 134\n",
      "28412.csv - 1444\n",
      "6731.csv - 6352\n",
      "34096.csv - 215\n"
     ]
    },
    {
     "name": "stderr",
     "output_type": "stream",
     "text": [
      "\n",
      "\n",
      " 14%|█▎        | 41/301 [00:04<00:27,  9.41it/s]\u001b[A\u001b[A"
     ]
    },
    {
     "name": "stdout",
     "output_type": "stream",
     "text": [
      "36622.csv - 1374\n",
      "33077.csv - 8912\n",
      "4778.csv - 17619\n",
      "36615.csv - 22292\n"
     ]
    },
    {
     "name": "stderr",
     "output_type": "stream",
     "text": [
      "\n",
      "\n",
      " 15%|█▍        | 44/301 [00:05<00:34,  7.46it/s]\u001b[A\u001b[A"
     ]
    },
    {
     "name": "stdout",
     "output_type": "stream",
     "text": [
      "22409.csv - 42690\n",
      "34094.csv - 1645\n"
     ]
    },
    {
     "name": "stderr",
     "output_type": "stream",
     "text": [
      "\n",
      "\n"
     ]
    },
    {
     "name": "stdout",
     "output_type": "stream",
     "text": [
      "31726.csv - 59767\n"
     ]
    },
    {
     "name": "stderr",
     "output_type": "stream",
     "text": [
      " 15%|█▌        | 46/301 [00:05<00:44,  5.74it/s]\u001b[A\u001b[A"
     ]
    },
    {
     "name": "stdout",
     "output_type": "stream",
     "text": [
      "6865.csv - 1087\n",
      "28653.csv - 29299\n"
     ]
    },
    {
     "name": "stderr",
     "output_type": "stream",
     "text": [
      "\n",
      "\n",
      " 16%|█▌        | 48/301 [00:06<00:41,  6.08it/s]\u001b[A\u001b[A"
     ]
    },
    {
     "name": "stdout",
     "output_type": "stream",
     "text": [
      "22411.csv - 128471\n"
     ]
    },
    {
     "name": "stderr",
     "output_type": "stream",
     "text": [
      "\n",
      "\n",
      " 17%|█▋        | 50/301 [00:07<01:13,  3.42it/s]\u001b[A\u001b[A"
     ]
    },
    {
     "name": "stdout",
     "output_type": "stream",
     "text": [
      "10294.csv - 39064\n",
      "36443.csv - 4403\n",
      "34095.csv - 478\n"
     ]
    },
    {
     "name": "stderr",
     "output_type": "stream",
     "text": [
      "\n",
      "\n",
      " 18%|█▊        | 53/301 [00:07<01:04,  3.83it/s]\u001b[A\u001b[A"
     ]
    },
    {
     "name": "stdout",
     "output_type": "stream",
     "text": [
      "6739.csv - 68291\n"
     ]
    },
    {
     "name": "stderr",
     "output_type": "stream",
     "text": [
      "\n",
      "\n",
      " 18%|█▊        | 55/301 [00:07<00:48,  5.05it/s]\u001b[A\u001b[A"
     ]
    },
    {
     "name": "stdout",
     "output_type": "stream",
     "text": [
      "24093.csv - 5468\n",
      "38564.csv - 18\n",
      "35615.csv - 128\n",
      "31014.csv - 9677\n",
      "28074.csv - 99705\n"
     ]
    },
    {
     "name": "stderr",
     "output_type": "stream",
     "text": [
      "\n",
      "\n",
      " 19%|█▉        | 58/301 [00:08<00:51,  4.70it/s]\u001b[A\u001b[A\n",
      "\n",
      " 20%|██        | 61/301 [00:08<00:38,  6.23it/s]\u001b[A\u001b[A"
     ]
    },
    {
     "name": "stdout",
     "output_type": "stream",
     "text": [
      "21834.csv - 1261\n",
      "29132.csv - 1\n",
      "20770.csv - 2685\n",
      "21613.csv - 31670\n"
     ]
    },
    {
     "name": "stderr",
     "output_type": "stream",
     "text": [
      "\n",
      "\n",
      " 21%|██        | 63/301 [00:09<00:37,  6.40it/s]\u001b[A\u001b[A"
     ]
    },
    {
     "name": "stdout",
     "output_type": "stream",
     "text": [
      "24096.csv - 58\n",
      "1981.csv - 43450\n",
      "3610.csv - 118746\n"
     ]
    },
    {
     "name": "stderr",
     "output_type": "stream",
     "text": [
      "\n",
      "\n",
      " 22%|██▏       | 65/301 [00:10<01:12,  3.25it/s]\u001b[A\u001b[A\n",
      "\n",
      " 22%|██▏       | 67/301 [00:10<00:55,  4.23it/s]\u001b[A\u001b[A"
     ]
    },
    {
     "name": "stdout",
     "output_type": "stream",
     "text": [
      "21204.csv - 91\n",
      "6869.csv - 3603\n",
      "16594.csv - 100015\n"
     ]
    },
    {
     "name": "stderr",
     "output_type": "stream",
     "text": [
      "\n",
      "\n",
      " 23%|██▎       | 69/301 [00:11<01:23,  2.78it/s]\u001b[A\u001b[A"
     ]
    },
    {
     "name": "stdout",
     "output_type": "stream",
     "text": [
      "4957.csv - 67830\n",
      "17948.csv - 119\n"
     ]
    },
    {
     "name": "stderr",
     "output_type": "stream",
     "text": [
      "\n",
      "\n",
      " 24%|██▍       | 72/301 [00:11<01:00,  3.81it/s]\u001b[A\u001b[A"
     ]
    },
    {
     "name": "stdout",
     "output_type": "stream",
     "text": [
      "20816.csv - 3709\n",
      "31736.csv - 321\n",
      "26591.csv - 2979\n",
      "32457.csv - 64443\n"
     ]
    },
    {
     "name": "stderr",
     "output_type": "stream",
     "text": [
      "\n",
      "\n",
      " 25%|██▍       | 74/301 [00:12<01:03,  3.57it/s]\u001b[A\u001b[A\n",
      "\n",
      " 25%|██▌       | 76/301 [00:12<00:49,  4.53it/s]\u001b[A\u001b[A"
     ]
    },
    {
     "name": "stdout",
     "output_type": "stream",
     "text": [
      "30459.csv - 6731\n",
      "28697.csv - 1\n",
      "21521.csv - 20589\n"
     ]
    },
    {
     "name": "stderr",
     "output_type": "stream",
     "text": [
      "\n",
      "\n",
      " 26%|██▌       | 78/301 [00:12<00:41,  5.43it/s]\u001b[A\u001b[A"
     ]
    },
    {
     "name": "stdout",
     "output_type": "stream",
     "text": [
      "28081.csv - 76\n",
      "24109.csv - 2348\n",
      "13524.csv - 28953\n"
     ]
    },
    {
     "name": "stderr",
     "output_type": "stream",
     "text": [
      "\n",
      "\n",
      " 27%|██▋       | 80/301 [00:13<00:35,  6.14it/s]\u001b[A\u001b[A\n",
      "\n",
      " 27%|██▋       | 82/301 [00:13<00:32,  6.82it/s]\u001b[A\u001b[A"
     ]
    },
    {
     "name": "stdout",
     "output_type": "stream",
     "text": [
      "6873.csv - 8750\n",
      "30467.csv - 5119\n",
      "6877.csv - 18690\n"
     ]
    },
    {
     "name": "stderr",
     "output_type": "stream",
     "text": [
      "\n",
      "\n",
      " 28%|██▊       | 83/301 [00:13<00:33,  6.45it/s]\u001b[A\u001b[A"
     ]
    },
    {
     "name": "stdout",
     "output_type": "stream",
     "text": [
      "25378.csv - 13308\n"
     ]
    },
    {
     "name": "stderr",
     "output_type": "stream",
     "text": [
      "\n",
      "\n",
      " 28%|██▊       | 84/301 [00:13<00:32,  6.65it/s]\u001b[A\u001b[A\n",
      "\n",
      " 28%|██▊       | 85/301 [00:14<00:48,  4.46it/s]\u001b[A\u001b[A"
     ]
    },
    {
     "name": "stdout",
     "output_type": "stream",
     "text": [
      "30259.csv - 61942\n",
      "6863.csv - 20371\n"
     ]
    },
    {
     "name": "stderr",
     "output_type": "stream",
     "text": [
      "\n",
      "\n",
      " 29%|██▊       | 86/301 [00:14<00:42,  5.03it/s]\u001b[A\u001b[A"
     ]
    },
    {
     "name": "stdout",
     "output_type": "stream",
     "text": [
      "19443.csv - 204434\n"
     ]
    },
    {
     "name": "stderr",
     "output_type": "stream",
     "text": [
      "\n",
      "\n",
      " 29%|██▉       | 87/301 [00:15<01:39,  2.15it/s]\u001b[A\u001b[A"
     ]
    },
    {
     "name": "stdout",
     "output_type": "stream",
     "text": [
      "38751.csv - 480\n"
     ]
    },
    {
     "name": "stderr",
     "output_type": "stream",
     "text": [
      "\n",
      "\n",
      " 30%|██▉       | 89/301 [00:15<01:24,  2.50it/s]\u001b[A\u001b[A"
     ]
    },
    {
     "name": "stdout",
     "output_type": "stream",
     "text": [
      "37326.csv - 65683\n"
     ]
    },
    {
     "name": "stderr",
     "output_type": "stream",
     "text": [
      "\n",
      "\n",
      " 31%|███       | 92/301 [00:15<01:01,  3.38it/s]\u001b[A\u001b[A"
     ]
    },
    {
     "name": "stdout",
     "output_type": "stream",
     "text": [
      "6738.csv - 830\n",
      "24847.csv - 311\n",
      "35184.csv - 6053\n"
     ]
    },
    {
     "name": "stderr",
     "output_type": "stream",
     "text": [
      "\n",
      "\n",
      " 31%|███       | 93/301 [00:16<00:55,  3.76it/s]\u001b[A\u001b[A"
     ]
    },
    {
     "name": "stdout",
     "output_type": "stream",
     "text": [
      "36621.csv - 30734\n",
      "31438.csv - 82\n",
      "6935.csv - 29456\n"
     ]
    },
    {
     "name": "stderr",
     "output_type": "stream",
     "text": [
      "\n",
      "\n",
      " 32%|███▏      | 95/301 [00:16<00:46,  4.40it/s]\u001b[A\u001b[A\n",
      "\n",
      " 32%|███▏      | 96/301 [00:16<00:40,  5.12it/s]\u001b[A\u001b[A\n",
      "\n",
      " 33%|███▎      | 98/301 [00:16<00:31,  6.52it/s]\u001b[A\u001b[A"
     ]
    },
    {
     "name": "stdout",
     "output_type": "stream",
     "text": [
      "37145.csv - 15529\n",
      "6756.csv - 23\n",
      "37233.csv - 11668\n",
      "4777.csv - 172340\n"
     ]
    },
    {
     "name": "stderr",
     "output_type": "stream",
     "text": [
      "\n",
      "\n",
      " 33%|███▎      | 100/301 [00:17<01:02,  3.20it/s]\u001b[A\u001b[A"
     ]
    },
    {
     "name": "stdout",
     "output_type": "stream",
     "text": [
      "4084.csv - 24484\n",
      "27835.csv - 30\n"
     ]
    },
    {
     "name": "stderr",
     "output_type": "stream",
     "text": [
      "\n",
      "\n",
      " 34%|███▍      | 102/301 [00:18<00:47,  4.18it/s]\u001b[A\u001b[A\n",
      "\n",
      " 35%|███▍      | 105/301 [00:18<00:35,  5.59it/s]\u001b[A\u001b[A"
     ]
    },
    {
     "name": "stdout",
     "output_type": "stream",
     "text": [
      "25879.csv - 10551\n",
      "6876.csv - 761\n",
      "25884.csv - 3041\n",
      "25882.csv - 2358\n",
      "4489.csv - 56303\n"
     ]
    },
    {
     "name": "stderr",
     "output_type": "stream",
     "text": [
      "\n",
      "\n",
      " 36%|███▌      | 107/301 [00:18<00:39,  4.94it/s]\u001b[A\u001b[A\n",
      "\n",
      " 36%|███▌      | 109/301 [00:18<00:30,  6.28it/s]\u001b[A\u001b[A"
     ]
    },
    {
     "name": "stdout",
     "output_type": "stream",
     "text": [
      "23272.csv - 1275\n",
      "34520.csv - 7934\n",
      "32470.csv - 4238\n",
      "5201.csv - 3956\n"
     ]
    },
    {
     "name": "stderr",
     "output_type": "stream",
     "text": [
      "\n",
      "\n",
      " 37%|███▋      | 111/301 [00:19<00:27,  6.92it/s]\u001b[A\u001b[A"
     ]
    },
    {
     "name": "stdout",
     "output_type": "stream",
     "text": [
      "4424.csv - 16189\n",
      "9806.csv - 32644\n",
      "25862.csv - 10469\n"
     ]
    },
    {
     "name": "stderr",
     "output_type": "stream",
     "text": [
      "\n",
      "\n",
      " 38%|███▊      | 113/301 [00:19<00:28,  6.58it/s]\u001b[A\u001b[A"
     ]
    },
    {
     "name": "stdout",
     "output_type": "stream",
     "text": [
      "16595.csv - 187839\n"
     ]
    },
    {
     "name": "stderr",
     "output_type": "stream",
     "text": [
      "\n",
      "\n",
      " 38%|███▊      | 115/301 [00:20<00:47,  3.95it/s]\u001b[A\u001b[A\n",
      "\n",
      " 39%|███▉      | 117/301 [00:20<00:35,  5.15it/s]\u001b[A\u001b[A"
     ]
    },
    {
     "name": "stdout",
     "output_type": "stream",
     "text": [
      "6706.csv - 26\n",
      "33559.csv - 3593\n",
      "22412.csv - 8982\n"
     ]
    },
    {
     "name": "stderr",
     "output_type": "stream",
     "text": [
      "\n",
      "\n",
      " 40%|███▉      | 119/301 [00:20<00:31,  5.78it/s]\u001b[A\u001b[A"
     ]
    },
    {
     "name": "stdout",
     "output_type": "stream",
     "text": [
      "5200.csv - 25754\n",
      "28073.csv - 9\n",
      "28411.csv - 184\n",
      "37237.csv - 1783\n",
      "30456.csv - 7362\n"
     ]
    },
    {
     "name": "stderr",
     "output_type": "stream",
     "text": [
      "\n",
      "\n",
      " 41%|████      | 123/301 [00:21<00:25,  6.97it/s]\u001b[A\u001b[A"
     ]
    },
    {
     "name": "stdout",
     "output_type": "stream",
     "text": [
      "17596.csv - 28881\n",
      "35636.csv - 1552\n",
      "4735.csv - 1316\n",
      "25885.csv - 3923\n"
     ]
    },
    {
     "name": "stderr",
     "output_type": "stream",
     "text": [
      "\n",
      "\n",
      " 42%|████▏     | 127/301 [00:21<00:20,  8.55it/s]\u001b[A\u001b[A"
     ]
    },
    {
     "name": "stdout",
     "output_type": "stream",
     "text": [
      "21614.csv - 20176\n",
      "16604.csv - 148079\n"
     ]
    },
    {
     "name": "stderr",
     "output_type": "stream",
     "text": [
      "\n",
      "\n",
      " 43%|████▎     | 129/301 [00:22<00:41,  4.10it/s]\u001b[A\u001b[A\n",
      "\n",
      " 44%|████▍     | 132/301 [00:22<00:31,  5.29it/s]\u001b[A\u001b[A"
     ]
    },
    {
     "name": "stdout",
     "output_type": "stream",
     "text": [
      "36620.csv - 3452\n",
      "23691.csv - 2134\n",
      "6705.csv - 3068\n",
      "34020.csv - 8567\n"
     ]
    },
    {
     "name": "stderr",
     "output_type": "stream",
     "text": [
      "\n",
      "\n",
      " 45%|████▍     | 134/301 [00:22<00:24,  6.79it/s]\u001b[A\u001b[A"
     ]
    },
    {
     "name": "stdout",
     "output_type": "stream",
     "text": [
      "36623.csv - 2732\n",
      "21006.csv - 787\n",
      "31013.csv - 2784\n",
      "12681.csv - 651\n",
      "6868.csv - 27\n"
     ]
    },
    {
     "name": "stderr",
     "output_type": "stream",
     "text": [
      "\n",
      "\n",
      " 46%|████▌     | 138/301 [00:22<00:19,  8.50it/s]\u001b[A\u001b[A"
     ]
    },
    {
     "name": "stdout",
     "output_type": "stream",
     "text": [
      "6442.csv - 15942\n",
      "6748.csv - 1159\n",
      "24092.csv - 6192\n",
      "12676.csv - 1655\n",
      "34097.csv - 66\n"
     ]
    },
    {
     "name": "stderr",
     "output_type": "stream",
     "text": [
      "\n",
      "\n",
      " 48%|████▊     | 143/301 [00:23<00:15, 10.49it/s]\u001b[A\u001b[A"
     ]
    },
    {
     "name": "stdout",
     "output_type": "stream",
     "text": [
      "6448.csv - 16457\n",
      "24098.csv - 371\n"
     ]
    },
    {
     "name": "stderr",
     "output_type": "stream",
     "text": [
      "\n",
      "\n",
      " 48%|████▊     | 145/301 [00:23<00:20,  7.79it/s]\u001b[A\u001b[A"
     ]
    },
    {
     "name": "stdout",
     "output_type": "stream",
     "text": [
      "32878.csv - 73446\n",
      "20784.csv - 21039\n"
     ]
    },
    {
     "name": "stderr",
     "output_type": "stream",
     "text": [
      "\n",
      "\n",
      " 49%|████▉     | 147/301 [00:23<00:19,  7.78it/s]\u001b[A\u001b[A"
     ]
    },
    {
     "name": "stdout",
     "output_type": "stream",
     "text": [
      "38147.csv - 12171\n",
      "8058.csv - 5971\n",
      "13816.csv - 58939\n"
     ]
    },
    {
     "name": "stderr",
     "output_type": "stream",
     "text": [
      "\n",
      "\n",
      " 50%|████▉     | 149/301 [00:24<00:28,  5.31it/s]\u001b[A\u001b[A\n",
      "\n",
      " 50%|█████     | 151/301 [00:24<00:22,  6.80it/s]\u001b[A\u001b[A"
     ]
    },
    {
     "name": "stdout",
     "output_type": "stream",
     "text": [
      "29133.csv - 17\n",
      "23694.csv - 2831\n",
      "8066.csv - 18339\n"
     ]
    },
    {
     "name": "stderr",
     "output_type": "stream",
     "text": [
      "\n",
      "\n",
      " 51%|█████     | 153/301 [00:24<00:21,  6.78it/s]\u001b[A\u001b[A"
     ]
    },
    {
     "name": "stdout",
     "output_type": "stream",
     "text": [
      "20899.csv - 4722\n",
      "6441.csv - 8308\n",
      "23709.csv - 2565\n",
      "6707.csv - 54517\n"
     ]
    },
    {
     "name": "stderr",
     "output_type": "stream",
     "text": [
      "\n",
      "\n",
      " 52%|█████▏    | 156/301 [00:25<00:23,  6.24it/s]\u001b[A\u001b[A\n",
      "\n",
      " 52%|█████▏    | 157/301 [00:25<00:22,  6.36it/s]\u001b[A\u001b[A"
     ]
    },
    {
     "name": "stdout",
     "output_type": "stream",
     "text": [
      "25870.csv - 14039\n",
      "21283.csv - 17331\n"
     ]
    },
    {
     "name": "stderr",
     "output_type": "stream",
     "text": [
      "\n",
      "\n",
      " 52%|█████▏    | 158/301 [00:25<00:23,  6.07it/s]\u001b[A\u001b[A"
     ]
    },
    {
     "name": "stdout",
     "output_type": "stream",
     "text": [
      "35795.csv - 9850\n",
      "20782.csv - 72782\n"
     ]
    },
    {
     "name": "stderr",
     "output_type": "stream",
     "text": [
      "\n",
      "\n",
      " 53%|█████▎    | 160/301 [00:26<00:28,  5.02it/s]\u001b[A\u001b[A\n",
      "\n",
      " 53%|█████▎    | 161/301 [00:26<00:28,  4.87it/s]\u001b[A\u001b[A"
     ]
    },
    {
     "name": "stdout",
     "output_type": "stream",
     "text": [
      "31011.csv - 15487\n",
      "35867.csv - 2366\n",
      "8068.csv - 1996\n"
     ]
    },
    {
     "name": "stderr",
     "output_type": "stream",
     "text": [
      "\n",
      "\n",
      " 54%|█████▍    | 164/301 [00:26<00:21,  6.37it/s]\u001b[A\u001b[A"
     ]
    },
    {
     "name": "stdout",
     "output_type": "stream",
     "text": [
      "7110.csv - 222\n",
      "3645.csv - 12345\n"
     ]
    },
    {
     "name": "stderr",
     "output_type": "stream",
     "text": [
      "\n",
      "\n",
      " 55%|█████▌    | 166/301 [00:26<00:22,  6.10it/s]\u001b[A\u001b[A"
     ]
    },
    {
     "name": "stdout",
     "output_type": "stream",
     "text": [
      "20896.csv - 14501\n",
      "21616.csv - 505\n",
      "36617.csv - 20537\n"
     ]
    },
    {
     "name": "stderr",
     "output_type": "stream",
     "text": [
      "\n",
      "\n",
      " 56%|█████▌    | 168/301 [00:27<00:19,  6.73it/s]\u001b[A\u001b[A\n",
      "\n",
      " 56%|█████▌    | 169/301 [00:27<00:18,  7.03it/s]\u001b[A\u001b[A"
     ]
    },
    {
     "name": "stdout",
     "output_type": "stream",
     "text": [
      "5366.csv - 8910\n",
      "24846.csv - 6275\n",
      "36619.csv - 1365\n",
      "25381.csv - 68409\n"
     ]
    },
    {
     "name": "stderr",
     "output_type": "stream",
     "text": [
      "\n",
      "\n",
      " 57%|█████▋    | 172/301 [00:28<00:21,  5.96it/s]\u001b[A\u001b[A\n",
      "\n",
      " 57%|█████▋    | 173/301 [00:28<00:19,  6.40it/s]\u001b[A\u001b[A"
     ]
    },
    {
     "name": "stdout",
     "output_type": "stream",
     "text": [
      "30127.csv - 6424\n",
      "25967.csv - 5257\n"
     ]
    },
    {
     "name": "stderr",
     "output_type": "stream",
     "text": [
      "\n",
      "\n",
      " 58%|█████▊    | 175/301 [00:28<00:20,  6.12it/s]\u001b[A\u001b[A"
     ]
    },
    {
     "name": "stdout",
     "output_type": "stream",
     "text": [
      "22899.csv - 43654\n"
     ]
    },
    {
     "name": "stderr",
     "output_type": "stream",
     "text": [
      "\n",
      "\n",
      " 58%|█████▊    | 176/301 [00:28<00:25,  4.95it/s]\u001b[A\u001b[A"
     ]
    },
    {
     "name": "stdout",
     "output_type": "stream",
     "text": [
      "21292.csv - 26885\n",
      "7075.csv - 5029\n"
     ]
    },
    {
     "name": "stderr",
     "output_type": "stream",
     "text": [
      "\n",
      "\n",
      " 59%|█████▉    | 178/301 [00:29<00:24,  5.03it/s]\u001b[A\u001b[A"
     ]
    },
    {
     "name": "stdout",
     "output_type": "stream",
     "text": [
      "11293.csv - 44172\n",
      "4958.csv - 135723\n"
     ]
    },
    {
     "name": "stderr",
     "output_type": "stream",
     "text": [
      "\n",
      "\n",
      " 59%|█████▉    | 179/301 [00:30<01:03,  1.92it/s]\u001b[A\u001b[A\n",
      "\n",
      " 60%|█████▉    | 180/301 [00:30<00:59,  2.03it/s]\u001b[A\u001b[A"
     ]
    },
    {
     "name": "stdout",
     "output_type": "stream",
     "text": [
      "25875.csv - 6692\n",
      "35619.csv - 81\n"
     ]
    },
    {
     "name": "stderr",
     "output_type": "stream",
     "text": [
      "\n",
      "\n",
      " 60%|██████    | 182/301 [00:31<00:46,  2.56it/s]\u001b[A\u001b[A"
     ]
    },
    {
     "name": "stdout",
     "output_type": "stream",
     "text": [
      "31988.csv - 50804\n",
      "3245.csv - 15054\n"
     ]
    },
    {
     "name": "stderr",
     "output_type": "stream",
     "text": [
      "\n",
      "\n",
      " 61%|██████    | 183/301 [00:31<00:37,  3.12it/s]\u001b[A\u001b[A\n",
      "\n",
      " 62%|██████▏   | 186/301 [00:31<00:26,  4.27it/s]\u001b[A\u001b[A"
     ]
    },
    {
     "name": "stdout",
     "output_type": "stream",
     "text": [
      "28077.csv - 9\n",
      "6454.csv - 1009\n",
      "6534.csv - 4273\n",
      "19533.csv - 138619\n",
      "13822.csv - 155037\n"
     ]
    },
    {
     "name": "stderr",
     "output_type": "stream",
     "text": [
      "\n",
      "\n",
      " 62%|██████▏   | 188/301 [00:32<00:42,  2.63it/s]\u001b[A\u001b[A"
     ]
    },
    {
     "name": "stdout",
     "output_type": "stream",
     "text": [
      "23708.csv - 2660\n",
      "20814.csv - 23466\n"
     ]
    },
    {
     "name": "stderr",
     "output_type": "stream",
     "text": [
      "\n",
      "\n",
      " 63%|██████▎   | 190/301 [00:33<00:35,  3.15it/s]\u001b[A\u001b[A\n",
      "\n",
      " 64%|██████▍   | 192/301 [00:33<00:26,  4.18it/s]\u001b[A\u001b[A"
     ]
    },
    {
     "name": "stdout",
     "output_type": "stream",
     "text": [
      "25979.csv - 3273\n",
      "6514.csv - 4726\n",
      "23886.csv - 129597\n",
      "16639.csv - 72303\n"
     ]
    },
    {
     "name": "stderr",
     "output_type": "stream",
     "text": [
      "\n",
      "\n",
      " 64%|██████▍   | 194/301 [00:34<00:41,  2.59it/s]\u001b[A\u001b[A\n",
      "\n",
      " 65%|██████▍   | 195/301 [00:35<00:40,  2.63it/s]\u001b[A\u001b[A"
     ]
    },
    {
     "name": "stdout",
     "output_type": "stream",
     "text": [
      "16598.csv - 34994\n"
     ]
    },
    {
     "name": "stderr",
     "output_type": "stream",
     "text": [
      "\n",
      "\n",
      " 65%|██████▌   | 196/301 [00:35<00:34,  3.04it/s]\u001b[A\u001b[A"
     ]
    },
    {
     "name": "stdout",
     "output_type": "stream",
     "text": [
      "37235.csv - 17109\n"
     ]
    },
    {
     "name": "stderr",
     "output_type": "stream",
     "text": [
      "\n",
      "\n",
      " 65%|██████▌   | 197/301 [00:35<00:30,  3.37it/s]\u001b[A\u001b[A"
     ]
    },
    {
     "name": "stdout",
     "output_type": "stream",
     "text": [
      "33687.csv - 31849\n",
      "3300.csv - 109601\n"
     ]
    },
    {
     "name": "stderr",
     "output_type": "stream",
     "text": [
      "\n",
      "\n",
      " 66%|██████▌   | 198/301 [00:36<00:44,  2.34it/s]\u001b[A\u001b[A"
     ]
    },
    {
     "name": "stdout",
     "output_type": "stream",
     "text": [
      "6980.csv - 481\n"
     ]
    },
    {
     "name": "stderr",
     "output_type": "stream",
     "text": [
      "\n",
      "\n",
      " 66%|██████▋   | 200/301 [00:36<00:38,  2.65it/s]\u001b[A\u001b[A"
     ]
    },
    {
     "name": "stdout",
     "output_type": "stream",
     "text": [
      "31010.csv - 53798\n"
     ]
    },
    {
     "name": "stderr",
     "output_type": "stream",
     "text": [
      "\n",
      "\n",
      " 67%|██████▋   | 201/301 [00:37<00:35,  2.79it/s]\u001b[A\u001b[A"
     ]
    },
    {
     "name": "stdout",
     "output_type": "stream",
     "text": [
      "19400.csv - 36391\n"
     ]
    },
    {
     "name": "stderr",
     "output_type": "stream",
     "text": [
      "\n",
      "\n",
      " 67%|██████▋   | 202/301 [00:37<00:40,  2.46it/s]\u001b[A\u001b[A"
     ]
    },
    {
     "name": "stdout",
     "output_type": "stream",
     "text": [
      "22900.csv - 62680\n"
     ]
    },
    {
     "name": "stderr",
     "output_type": "stream",
     "text": [
      "\n",
      "\n",
      " 68%|██████▊   | 204/301 [00:37<00:29,  3.33it/s]\u001b[A\u001b[A"
     ]
    },
    {
     "name": "stdout",
     "output_type": "stream",
     "text": [
      "35091.csv - 3198\n",
      "38293.csv - 1\n",
      "6729.csv - 224\n",
      "31317.csv - 36368\n"
     ]
    },
    {
     "name": "stderr",
     "output_type": "stream",
     "text": [
      "\n",
      "\n",
      " 68%|██████▊   | 206/301 [00:38<00:26,  3.60it/s]\u001b[A\u001b[A\n",
      "\n",
      " 69%|██████▉   | 207/301 [00:38<00:27,  3.47it/s]\u001b[A\u001b[A"
     ]
    },
    {
     "name": "stdout",
     "output_type": "stream",
     "text": [
      "5719.csv - 33095\n",
      "19127.csv - 3857\n"
     ]
    },
    {
     "name": "stderr",
     "output_type": "stream",
     "text": [
      "/opt/conda/lib/python3.6/site-packages/IPython/core/interactiveshell.py:3020: DtypeWarning: Columns (4) have mixed types. Specify dtype option on import or set low_memory=False.\n",
      "  interactivity=interactivity, compiler=compiler, result=result)\n"
     ]
    },
    {
     "name": "stdout",
     "output_type": "stream",
     "text": [
      "19517.csv - 211685\n"
     ]
    },
    {
     "name": "stderr",
     "output_type": "stream",
     "text": [
      "\n",
      "\n",
      " 69%|██████▉   | 209/301 [00:39<00:34,  2.71it/s]\u001b[A\u001b[A\n",
      "\n",
      " 70%|██████▉   | 210/301 [00:39<00:31,  2.90it/s]\u001b[A\u001b[A"
     ]
    },
    {
     "name": "stdout",
     "output_type": "stream",
     "text": [
      "6732.csv - 32551\n",
      "24086.csv - 1238\n"
     ]
    },
    {
     "name": "stderr",
     "output_type": "stream",
     "text": [
      "\n",
      "\n",
      " 70%|███████   | 212/301 [00:40<00:24,  3.63it/s]\u001b[A\u001b[A"
     ]
    },
    {
     "name": "stdout",
     "output_type": "stream",
     "text": [
      "20769.csv - 24329\n",
      "29130.csv - 33\n",
      "6533.csv - 1035\n",
      "20798.csv - 5380\n"
     ]
    },
    {
     "name": "stderr",
     "output_type": "stream",
     "text": [
      "\n",
      "\n",
      " 71%|███████▏  | 215/301 [00:40<00:17,  4.87it/s]\u001b[A\u001b[A"
     ]
    },
    {
     "name": "stdout",
     "output_type": "stream",
     "text": [
      "8089.csv - 57115\n"
     ]
    },
    {
     "name": "stderr",
     "output_type": "stream",
     "text": [
      "\n",
      "\n",
      " 72%|███████▏  | 217/301 [00:40<00:19,  4.23it/s]\u001b[A\u001b[A"
     ]
    },
    {
     "name": "stdout",
     "output_type": "stream",
     "text": [
      "24091.csv - 37\n",
      "6880.csv - 16\n",
      "34851.csv - 86\n",
      "30689.csv - 7\n",
      "28891.csv - 191\n"
     ]
    },
    {
     "name": "stderr",
     "output_type": "stream",
     "text": [
      "\n",
      "\n",
      " 74%|███████▍  | 222/301 [00:41<00:15,  5.23it/s]\u001b[A\u001b[A"
     ]
    },
    {
     "name": "stdout",
     "output_type": "stream",
     "text": [
      "19371.csv - 58430\n"
     ]
    },
    {
     "name": "stderr",
     "output_type": "stream",
     "text": [
      "\n",
      "\n",
      " 74%|███████▍  | 223/301 [00:41<00:13,  5.86it/s]\u001b[A\u001b[A\n",
      "\n",
      " 75%|███████▍  | 225/301 [00:41<00:10,  7.18it/s]\u001b[A\u001b[A"
     ]
    },
    {
     "name": "stdout",
     "output_type": "stream",
     "text": [
      "30124.csv - 6034\n",
      "28410.csv - 2560\n",
      "21394.csv - 5222\n"
     ]
    },
    {
     "name": "stderr",
     "output_type": "stream",
     "text": [
      "\n",
      "\n",
      " 75%|███████▌  | 227/301 [00:41<00:11,  6.60it/s]"
     ]
    },
    {
     "name": "stdout",
     "output_type": "stream",
     "text": [
      "20774.csv - 31539\n",
      "20901.csv - 2930\n"
     ]
    },
    {
     "name": "stderr",
     "output_type": "stream",
     "text": [
      "\u001b[A\u001b[A"
     ]
    },
    {
     "name": "stdout",
     "output_type": "stream",
     "text": [
      "29129.csv - 35\n",
      "13817.csv - 21041\n"
     ]
    },
    {
     "name": "stderr",
     "output_type": "stream",
     "text": [
      "\n",
      "\n",
      " 76%|███████▌  | 229/301 [00:42<00:09,  7.25it/s]\u001b[A\u001b[A\n",
      "\n",
      " 77%|███████▋  | 231/301 [00:42<00:09,  7.71it/s]\u001b[A\u001b[A"
     ]
    },
    {
     "name": "stdout",
     "output_type": "stream",
     "text": [
      "35191.csv - 1771\n",
      "34630.csv - 25246\n"
     ]
    },
    {
     "name": "stderr",
     "output_type": "stream",
     "text": [
      "\n",
      "\n",
      " 78%|███████▊  | 234/301 [00:42<00:07,  9.51it/s]\u001b[A\u001b[A"
     ]
    },
    {
     "name": "stdout",
     "output_type": "stream",
     "text": [
      "20855.csv - 4461\n",
      "4679.csv - 431\n",
      "25977.csv - 5548\n",
      "4156.csv - 434\n",
      "24094.csv - 788\n",
      "12683.csv - 561\n",
      "25873.csv - 20204\n"
     ]
    },
    {
     "name": "stderr",
     "output_type": "stream",
     "text": [
      "\n",
      "\n",
      " 79%|███████▉  | 238/301 [00:42<00:05, 11.73it/s]\u001b[A\u001b[A"
     ]
    },
    {
     "name": "stdout",
     "output_type": "stream",
     "text": [
      "30629.csv - 24277\n",
      "16357.csv - 61985\n"
     ]
    },
    {
     "name": "stderr",
     "output_type": "stream",
     "text": [
      "\n",
      "\n",
      " 80%|███████▉  | 240/301 [00:43<00:10,  5.75it/s]\u001b[A\u001b[A\n",
      "\n",
      " 80%|████████  | 242/301 [00:43<00:10,  5.63it/s]\u001b[A\u001b[A"
     ]
    },
    {
     "name": "stdout",
     "output_type": "stream",
     "text": [
      "36614.csv - 25558\n",
      "30149.csv - 9238\n"
     ]
    },
    {
     "name": "stderr",
     "output_type": "stream",
     "text": [
      "\n",
      "\n",
      " 81%|████████  | 244/301 [00:43<00:08,  7.01it/s]\u001b[A\u001b[A"
     ]
    },
    {
     "name": "stdout",
     "output_type": "stream",
     "text": [
      "6777.csv - 594\n",
      "21617.csv - 16392\n",
      "36016.csv - 4923\n",
      "21332.csv - 38138\n"
     ]
    },
    {
     "name": "stderr",
     "output_type": "stream",
     "text": [
      "\n",
      "\n",
      " 82%|████████▏ | 246/301 [00:44<00:09,  5.54it/s]\u001b[A\u001b[A\n",
      "\n",
      " 82%|████████▏ | 248/301 [00:44<00:07,  6.77it/s]\u001b[A\u001b[A"
     ]
    },
    {
     "name": "stdout",
     "output_type": "stream",
     "text": [
      "38754.csv - 141\n",
      "22415.csv - 11645\n",
      "7174.csv - 1158\n",
      "17493.csv - 1754\n"
     ]
    },
    {
     "name": "stderr",
     "output_type": "stream",
     "text": [
      "\n",
      "\n",
      " 83%|████████▎ | 251/301 [00:44<00:06,  7.59it/s]\u001b[A\u001b[A"
     ]
    },
    {
     "name": "stdout",
     "output_type": "stream",
     "text": [
      "5365.csv - 19767\n",
      "36947.csv - 13202\n"
     ]
    },
    {
     "name": "stderr",
     "output_type": "stream",
     "text": [
      "\n",
      "\n",
      " 84%|████████▍ | 253/301 [00:45<00:05,  8.58it/s]\u001b[A\u001b[A"
     ]
    },
    {
     "name": "stdout",
     "output_type": "stream",
     "text": [
      "31740.csv - 189\n",
      "4985.csv - 129627\n"
     ]
    },
    {
     "name": "stderr",
     "output_type": "stream",
     "text": [
      "\n",
      "\n",
      " 85%|████████▍ | 255/301 [00:46<00:10,  4.47it/s]\u001b[A\u001b[A\n",
      "\n",
      " 85%|████████▌ | 256/301 [00:46<00:09,  4.87it/s]\u001b[A\u001b[A"
     ]
    },
    {
     "name": "stdout",
     "output_type": "stream",
     "text": [
      "24090.csv - 188\n",
      "36616.csv - 16174\n"
     ]
    },
    {
     "name": "stderr",
     "output_type": "stream",
     "text": [
      "\n",
      "\n",
      " 86%|████████▌ | 258/301 [00:46<00:06,  6.17it/s]\u001b[A\u001b[A\n",
      "\n",
      " 86%|████████▋ | 260/301 [00:46<00:05,  7.59it/s]\u001b[A\u001b[A"
     ]
    },
    {
     "name": "stdout",
     "output_type": "stream",
     "text": [
      "5202.csv - 3744\n",
      "28080.csv - 63\n",
      "28072.csv - 4449\n",
      "12655.csv - 278\n"
     ]
    },
    {
     "name": "stderr",
     "output_type": "stream",
     "text": [
      "\n",
      "\n",
      " 87%|████████▋ | 262/301 [00:46<00:04,  9.05it/s]\u001b[A\u001b[A"
     ]
    },
    {
     "name": "stdout",
     "output_type": "stream",
     "text": [
      "34517.csv - 4468\n",
      "7072.csv - 8470\n",
      "13415.csv - 10844\n"
     ]
    },
    {
     "name": "stderr",
     "output_type": "stream",
     "text": [
      "\n",
      "\n",
      " 88%|████████▊ | 264/301 [00:46<00:04,  9.12it/s]\u001b[A\u001b[A"
     ]
    },
    {
     "name": "stdout",
     "output_type": "stream",
     "text": [
      "7179.csv - 3959\n",
      "25705.csv - 24778\n"
     ]
    },
    {
     "name": "stderr",
     "output_type": "stream",
     "text": [
      "\n",
      "\n",
      " 88%|████████▊ | 266/301 [00:47<00:04,  8.56it/s]\u001b[A\u001b[A"
     ]
    },
    {
     "name": "stdout",
     "output_type": "stream",
     "text": [
      "25976.csv - 2418\n",
      "38772.csv - 4089\n",
      "35584.csv - 3568\n"
     ]
    },
    {
     "name": "stderr",
     "output_type": "stream",
     "text": [
      "\n",
      "\n",
      " 89%|████████▉ | 269/301 [00:47<00:03,  8.17it/s]\u001b[A\u001b[A"
     ]
    },
    {
     "name": "stdout",
     "output_type": "stream",
     "text": [
      "4637.csv - 47141\n",
      "6874.csv - 1785\n"
     ]
    },
    {
     "name": "stderr",
     "output_type": "stream",
     "text": [
      "\n",
      "\n",
      " 90%|█████████ | 271/301 [00:47<00:03,  9.34it/s]\u001b[A\u001b[A"
     ]
    },
    {
     "name": "stdout",
     "output_type": "stream",
     "text": [
      "22410.csv - 7465\n",
      "4864.csv - 5519\n",
      "19534.csv - 197231\n"
     ]
    },
    {
     "name": "stderr",
     "output_type": "stream",
     "text": [
      "\n",
      "\n",
      " 91%|█████████ | 273/301 [00:48<00:06,  4.04it/s]\u001b[A\u001b[A\n",
      "\n",
      " 91%|█████████ | 274/301 [00:48<00:05,  4.73it/s]\u001b[A\u001b[A\n",
      "\n",
      " 92%|█████████▏| 277/301 [00:48<00:03,  6.20it/s]\u001b[A\u001b[A"
     ]
    },
    {
     "name": "stdout",
     "output_type": "stream",
     "text": [
      "20858.csv - 6051\n",
      "25881.csv - 7091\n",
      "28078.csv - 23\n",
      "21046.csv - 9416\n"
     ]
    },
    {
     "name": "stderr",
     "output_type": "stream",
     "text": [
      "\n",
      "\n",
      " 93%|█████████▎| 279/301 [00:49<00:03,  6.90it/s]\u001b[A\u001b[A"
     ]
    },
    {
     "name": "stdout",
     "output_type": "stream",
     "text": [
      "25864.csv - 5296\n",
      "21615.csv - 19623\n",
      "37238.csv - 36\n"
     ]
    },
    {
     "name": "stderr",
     "output_type": "stream",
     "text": [
      "\n",
      "\n",
      " 93%|█████████▎| 281/301 [00:49<00:03,  6.41it/s]\u001b[A\u001b[A"
     ]
    },
    {
     "name": "stdout",
     "output_type": "stream",
     "text": [
      "29969.csv - 40220\n",
      "34495.csv - 6545\n"
     ]
    },
    {
     "name": "stderr",
     "output_type": "stream",
     "text": [
      "\n",
      "\n",
      " 95%|█████████▍| 285/301 [00:49<00:01,  8.30it/s]\u001b[A\u001b[A"
     ]
    },
    {
     "name": "stdout",
     "output_type": "stream",
     "text": [
      "12665.csv - 103\n",
      "38537.csv - 282\n",
      "21357.csv - 5498\n",
      "27072.csv - 5\n",
      "12008.csv - 7007\n",
      "7257.csv - 88615\n"
     ]
    },
    {
     "name": "stderr",
     "output_type": "stream",
     "text": [
      "\n",
      "\n",
      " 96%|█████████▌| 288/301 [00:50<00:02,  6.14it/s]\u001b[A\u001b[A"
     ]
    },
    {
     "name": "stdout",
     "output_type": "stream",
     "text": [
      "25711.csv - 34307\n"
     ]
    },
    {
     "name": "stderr",
     "output_type": "stream",
     "text": [
      "\n",
      "\n",
      " 96%|█████████▋| 290/301 [00:50<00:01,  5.98it/s]\u001b[A\u001b[A"
     ]
    },
    {
     "name": "stdout",
     "output_type": "stream",
     "text": [
      "31439.csv - 1570\n",
      "37241.csv - 1343\n"
     ]
    },
    {
     "name": "stderr",
     "output_type": "stream",
     "text": [
      "\n",
      "\n",
      " 97%|█████████▋| 292/301 [00:51<00:01,  5.57it/s]\u001b[A\u001b[A"
     ]
    },
    {
     "name": "stdout",
     "output_type": "stream",
     "text": [
      "3298.csv - 41222\n"
     ]
    },
    {
     "name": "stderr",
     "output_type": "stream",
     "text": [
      "\n",
      "\n",
      " 97%|█████████▋| 293/301 [00:51<00:01,  5.43it/s]\u001b[A\u001b[A"
     ]
    },
    {
     "name": "stdout",
     "output_type": "stream",
     "text": [
      "25869.csv - 17788\n",
      "38755.csv - 13\n",
      "30084.csv - 382\n",
      "5925.csv - 34467\n"
     ]
    },
    {
     "name": "stderr",
     "output_type": "stream",
     "text": [
      "\n",
      "\n",
      " 98%|█████████▊| 296/301 [00:51<00:00,  5.79it/s]\u001b[A\u001b[A\n",
      "\n",
      " 99%|█████████▉| 299/301 [00:52<00:00,  7.56it/s]\u001b[A\u001b[A"
     ]
    },
    {
     "name": "stdout",
     "output_type": "stream",
     "text": [
      "22534.csv - 959\n",
      "20900.csv - 2354\n",
      "26731.csv - 3760\n"
     ]
    },
    {
     "name": "stderr",
     "output_type": "stream",
     "text": [
      "\n",
      "\n",
      "100%|██████████| 301/301 [00:52<00:00,  7.12it/s]\u001b[A\u001b[A"
     ]
    },
    {
     "name": "stdout",
     "output_type": "stream",
     "text": [
      "29185.csv - 23950\n",
      "6984.csv - 994\n"
     ]
    }
   ],
   "source": [
    "for idx, p in tqdm(list(enumerate(root.glob('*.csv')))):\n",
    "    df = pd.read_csv(str(p))\n",
    "    print('%s - %s' % (p.name, df.shape[0]))\n",
    "    if df.shape[0] == 0:\n",
    "        continue\n",
    "    df.dropna(subset=['mention'], inplace=True)\n",
    "    df['mention'] = df['mention'].map(lambda x: ' '.join(x.split()[:100]))\n",
    "    df.to_csv('/source/main/preprocess/output/topics/%s' % p.name, index=None)\n"
   ]
  },
  {
   "cell_type": "code",
   "execution_count": 28,
   "metadata": {},
   "outputs": [],
   "source": [
    "df = pd.read_csv('/source/main/data_for_train/output/huge_pool/wiki.csv', usecols=['target'])"
   ]
  },
  {
   "cell_type": "code",
   "execution_count": 29,
   "metadata": {},
   "outputs": [],
   "source": [
    "df['target'] = df['target'].map(lambda x: ' '.join(x.split()[:100]))"
   ]
  },
  {
   "cell_type": "code",
   "execution_count": 30,
   "metadata": {},
   "outputs": [
    {
     "data": {
      "text/html": [
       "<div>\n",
       "<style scoped>\n",
       "    .dataframe tbody tr th:only-of-type {\n",
       "        vertical-align: middle;\n",
       "    }\n",
       "\n",
       "    .dataframe tbody tr th {\n",
       "        vertical-align: top;\n",
       "    }\n",
       "\n",
       "    .dataframe thead th {\n",
       "        text-align: right;\n",
       "    }\n",
       "</style>\n",
       "<table border=\"1\" class=\"dataframe\">\n",
       "  <thead>\n",
       "    <tr style=\"text-align: right;\">\n",
       "      <th></th>\n",
       "      <th>target</th>\n",
       "    </tr>\n",
       "  </thead>\n",
       "  <tbody>\n",
       "    <tr>\n",
       "      <th>0</th>\n",
       "      <td>nếu câu trả lời nhận được là “ có ” thì biểu thức ấy đích thị là tn ; còn nếu là “ không ” thì tư cách tn của biểu thức ấy tự khắc bị bác bỏ .</td>\n",
       "    </tr>\n",
       "    <tr>\n",
       "      <th>1</th>\n",
       "      <td>có cảm giác được lợi thế , mới có thể tìm được nhược điểm của đối phương , phải không ngừng đánh vào phần tình cảm yếu mềm nhất khiến cô ta nhỏ</td>\n",
       "    </tr>\n",
       "    <tr>\n",
       "      <th>2</th>\n",
       "      <td>thiên về kiểu dáng bán cổ điển , và cổ điển , sơn màu gỗ tự nhiên làm cho bộ bàn ghế ăn gỗ căm xe luôn thể thiện được</td>\n",
       "    </tr>\n",
       "    <tr>\n",
       "      <th>3</th>\n",
       "      <td>cô ấy muốn bắt đầu một cuộc sống mới ở một nơi khácvà cô ấy hứa sẽ trở về khi vết thương đã không còn âm ĩ nữa .</td>\n",
       "    </tr>\n",
       "    <tr>\n",
       "      <th>4</th>\n",
       "      <td>anh bắt đầu lấy hộp dụng cụ vẽ của mình trong đó có đủ các màu vẽ và các cây cọ vẽ. ‘ ngồi đó và không được cử động dù chỉ một inch ” .anh ra lệnh điều đó làm cô bối rối. “ anh phải làm một thứ gì đó với em . ”</td>\n",
       "    </tr>\n",
       "  </tbody>\n",
       "</table>\n",
       "</div>"
      ],
      "text/plain": [
       "                                                                                                                                                                                                               target\n",
       "0  nếu câu trả lời nhận được là “ có ” thì biểu thức ấy đích thị là tn ; còn nếu là “ không ” thì tư cách tn của biểu thức ấy tự khắc bị bác bỏ .                                                                    \n",
       "1  có cảm giác được lợi thế , mới có thể tìm được nhược điểm của đối phương , phải không ngừng đánh vào phần tình cảm yếu mềm nhất khiến cô ta nhỏ                                                                   \n",
       "2  thiên về kiểu dáng bán cổ điển , và cổ điển , sơn màu gỗ tự nhiên làm cho bộ bàn ghế ăn gỗ căm xe luôn thể thiện được                                                                                             \n",
       "3  cô ấy muốn bắt đầu một cuộc sống mới ở một nơi khácvà cô ấy hứa sẽ trở về khi vết thương đã không còn âm ĩ nữa .                                                                                                  \n",
       "4  anh bắt đầu lấy hộp dụng cụ vẽ của mình trong đó có đủ các màu vẽ và các cây cọ vẽ. ‘ ngồi đó và không được cử động dù chỉ một inch ” .anh ra lệnh điều đó làm cô bối rối. “ anh phải làm một thứ gì đó với em . ”"
      ]
     },
     "execution_count": 30,
     "metadata": {},
     "output_type": "execute_result"
    }
   ],
   "source": [
    "df.head()"
   ]
  },
  {
   "cell_type": "code",
   "execution_count": null,
   "metadata": {},
   "outputs": [],
   "source": [
    "df.to_csv('/source/main/data_for_train/output/huge_pool/wiki.csv', index=None)"
   ]
  },
  {
   "cell_type": "code",
   "execution_count": null,
   "metadata": {},
   "outputs": [],
   "source": []
  }
 ],
 "metadata": {
  "kernelspec": {
   "display_name": "Python 3",
   "language": "python",
   "name": "python3"
  },
  "language_info": {
   "codemirror_mode": {
    "name": "ipython",
    "version": 3
   },
   "file_extension": ".py",
   "mimetype": "text/x-python",
   "name": "python",
   "nbconvert_exporter": "python",
   "pygments_lexer": "ipython3",
   "version": "3.6.8"
  }
 },
 "nbformat": 4,
 "nbformat_minor": 2
}
